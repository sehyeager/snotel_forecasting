{
 "cells": [
  {
   "cell_type": "code",
   "execution_count": 36,
   "metadata": {
    "ExecuteTime": {
     "end_time": "2021-02-19T20:08:26.323650Z",
     "start_time": "2021-02-19T20:08:26.318663Z"
    }
   },
   "outputs": [],
   "source": [
    "import pandas as pd\n",
    "import numpy as np\n",
    "import matplotlib.pyplot as plt\n",
    "\n",
    "from sklearn.preprocessing import StandardScaler\n",
    "from sklearn.model_selection import train_test_split\n",
    "from sklearn import metrics\n",
    "\n",
    "from tensorflow.keras.models import Sequential\n",
    "from tensorflow.keras.layers import Dense, Dropout, GRU\n",
    "from tensorflow.keras.optimizers import Adam\n",
    "from tensorflow.keras.preprocessing.sequence import TimeseriesGenerator"
   ]
  },
  {
   "cell_type": "code",
   "execution_count": 2,
   "metadata": {
    "ExecuteTime": {
     "end_time": "2021-02-19T19:43:27.926044Z",
     "start_time": "2021-02-19T19:43:27.889117Z"
    }
   },
   "outputs": [],
   "source": [
    "df = pd.read_csv('allyears.csv')"
   ]
  },
  {
   "cell_type": "code",
   "execution_count": 3,
   "metadata": {
    "ExecuteTime": {
     "end_time": "2021-02-19T19:43:28.145257Z",
     "start_time": "2021-02-19T19:43:28.121811Z"
    }
   },
   "outputs": [
    {
     "data": {
      "text/html": [
       "<div>\n",
       "<style scoped>\n",
       "    .dataframe tbody tr th:only-of-type {\n",
       "        vertical-align: middle;\n",
       "    }\n",
       "\n",
       "    .dataframe tbody tr th {\n",
       "        vertical-align: top;\n",
       "    }\n",
       "\n",
       "    .dataframe thead th {\n",
       "        text-align: right;\n",
       "    }\n",
       "</style>\n",
       "<table border=\"1\" class=\"dataframe\">\n",
       "  <thead>\n",
       "    <tr style=\"text-align: right;\">\n",
       "      <th></th>\n",
       "      <th>Unnamed: 0</th>\n",
       "      <th>yyyymmdd</th>\n",
       "      <th>lat</th>\n",
       "      <th>long</th>\n",
       "      <th>station_id</th>\n",
       "      <th>acton_id</th>\n",
       "      <th>station_name</th>\n",
       "      <th>elevation</th>\n",
       "      <th>wteq_amt</th>\n",
       "      <th>wteq_med</th>\n",
       "      <th>...</th>\n",
       "      <th>lower columbia, hood river</th>\n",
       "      <th>owyhee malheur</th>\n",
       "      <th>raft, goose, salmon falls, bruneau</th>\n",
       "      <th>snake above palisades</th>\n",
       "      <th>umatilla, walla walla, willow</th>\n",
       "      <th>upper clark fork river basin</th>\n",
       "      <th>weiser, payette, boise</th>\n",
       "      <th>white, green, cedar, skykomish, snoqualmi, baker, skagit</th>\n",
       "      <th>willamette</th>\n",
       "      <th>yakima, ahtanum</th>\n",
       "    </tr>\n",
       "  </thead>\n",
       "  <tbody>\n",
       "    <tr>\n",
       "      <th>0</th>\n",
       "      <td>0</td>\n",
       "      <td>1990-02-10</td>\n",
       "      <td>48.566667</td>\n",
       "      <td>-115.450000</td>\n",
       "      <td>311</td>\n",
       "      <td>15A08S</td>\n",
       "      <td>Banfield Mountain</td>\n",
       "      <td>5600</td>\n",
       "      <td>17.2</td>\n",
       "      <td>12.2</td>\n",
       "      <td>...</td>\n",
       "      <td>0</td>\n",
       "      <td>0</td>\n",
       "      <td>0</td>\n",
       "      <td>0</td>\n",
       "      <td>0</td>\n",
       "      <td>0</td>\n",
       "      <td>0</td>\n",
       "      <td>0</td>\n",
       "      <td>0</td>\n",
       "      <td>0</td>\n",
       "    </tr>\n",
       "    <tr>\n",
       "      <th>1</th>\n",
       "      <td>1</td>\n",
       "      <td>1990-02-10</td>\n",
       "      <td>45.000000</td>\n",
       "      <td>-117.166667</td>\n",
       "      <td>736</td>\n",
       "      <td>17D08S</td>\n",
       "      <td>Schneider Meadows</td>\n",
       "      <td>5400</td>\n",
       "      <td>21.6</td>\n",
       "      <td>22.0</td>\n",
       "      <td>...</td>\n",
       "      <td>0</td>\n",
       "      <td>0</td>\n",
       "      <td>0</td>\n",
       "      <td>0</td>\n",
       "      <td>0</td>\n",
       "      <td>0</td>\n",
       "      <td>0</td>\n",
       "      <td>0</td>\n",
       "      <td>0</td>\n",
       "      <td>0</td>\n",
       "    </tr>\n",
       "    <tr>\n",
       "      <th>2</th>\n",
       "      <td>2</td>\n",
       "      <td>1990-02-10</td>\n",
       "      <td>45.083333</td>\n",
       "      <td>-117.550000</td>\n",
       "      <td>812</td>\n",
       "      <td>17D07S</td>\n",
       "      <td>Taylor Green</td>\n",
       "      <td>5740</td>\n",
       "      <td>9.8</td>\n",
       "      <td>15.2</td>\n",
       "      <td>...</td>\n",
       "      <td>0</td>\n",
       "      <td>0</td>\n",
       "      <td>0</td>\n",
       "      <td>0</td>\n",
       "      <td>0</td>\n",
       "      <td>0</td>\n",
       "      <td>0</td>\n",
       "      <td>0</td>\n",
       "      <td>0</td>\n",
       "      <td>0</td>\n",
       "    </tr>\n",
       "    <tr>\n",
       "      <th>3</th>\n",
       "      <td>3</td>\n",
       "      <td>1990-02-10</td>\n",
       "      <td>45.066667</td>\n",
       "      <td>-118.150000</td>\n",
       "      <td>873</td>\n",
       "      <td>18D21S</td>\n",
       "      <td>Wolf Creek</td>\n",
       "      <td>5630</td>\n",
       "      <td>8.4</td>\n",
       "      <td>12.6</td>\n",
       "      <td>...</td>\n",
       "      <td>0</td>\n",
       "      <td>0</td>\n",
       "      <td>0</td>\n",
       "      <td>0</td>\n",
       "      <td>0</td>\n",
       "      <td>0</td>\n",
       "      <td>0</td>\n",
       "      <td>0</td>\n",
       "      <td>0</td>\n",
       "      <td>0</td>\n",
       "    </tr>\n",
       "    <tr>\n",
       "      <th>4</th>\n",
       "      <td>4</td>\n",
       "      <td>1990-02-10</td>\n",
       "      <td>44.300000</td>\n",
       "      <td>-115.233333</td>\n",
       "      <td>312</td>\n",
       "      <td>15E11S</td>\n",
       "      <td>Banner Summit</td>\n",
       "      <td>7040</td>\n",
       "      <td>15.1</td>\n",
       "      <td>16.8</td>\n",
       "      <td>...</td>\n",
       "      <td>0</td>\n",
       "      <td>0</td>\n",
       "      <td>0</td>\n",
       "      <td>0</td>\n",
       "      <td>0</td>\n",
       "      <td>0</td>\n",
       "      <td>0</td>\n",
       "      <td>0</td>\n",
       "      <td>0</td>\n",
       "      <td>0</td>\n",
       "    </tr>\n",
       "  </tbody>\n",
       "</table>\n",
       "<p>5 rows × 37 columns</p>\n",
       "</div>"
      ],
      "text/plain": [
       "   Unnamed: 0    yyyymmdd        lat        long  station_id acton_id  \\\n",
       "0           0  1990-02-10  48.566667 -115.450000         311   15A08S   \n",
       "1           1  1990-02-10  45.000000 -117.166667         736   17D08S   \n",
       "2           2  1990-02-10  45.083333 -117.550000         812   17D07S   \n",
       "3           3  1990-02-10  45.066667 -118.150000         873   18D21S   \n",
       "4           4  1990-02-10  44.300000 -115.233333         312   15E11S   \n",
       "\n",
       "        station_name  elevation  wteq_amt  wteq_med  ...  \\\n",
       "0  Banfield Mountain       5600      17.2      12.2  ...   \n",
       "1  Schneider Meadows       5400      21.6      22.0  ...   \n",
       "2       Taylor Green       5740       9.8      15.2  ...   \n",
       "3         Wolf Creek       5630       8.4      12.6  ...   \n",
       "4      Banner Summit       7040      15.1      16.8  ...   \n",
       "\n",
       "   lower columbia, hood river  owyhee malheur  \\\n",
       "0                           0               0   \n",
       "1                           0               0   \n",
       "2                           0               0   \n",
       "3                           0               0   \n",
       "4                           0               0   \n",
       "\n",
       "   raft, goose, salmon falls, bruneau  snake above palisades  \\\n",
       "0                                   0                      0   \n",
       "1                                   0                      0   \n",
       "2                                   0                      0   \n",
       "3                                   0                      0   \n",
       "4                                   0                      0   \n",
       "\n",
       "   umatilla, walla walla, willow  upper clark fork river basin  \\\n",
       "0                              0                             0   \n",
       "1                              0                             0   \n",
       "2                              0                             0   \n",
       "3                              0                             0   \n",
       "4                              0                             0   \n",
       "\n",
       "   weiser, payette, boise  \\\n",
       "0                       0   \n",
       "1                       0   \n",
       "2                       0   \n",
       "3                       0   \n",
       "4                       0   \n",
       "\n",
       "   white, green, cedar, skykomish, snoqualmi, baker, skagit  willamette  \\\n",
       "0                                                  0                  0   \n",
       "1                                                  0                  0   \n",
       "2                                                  0                  0   \n",
       "3                                                  0                  0   \n",
       "4                                                  0                  0   \n",
       "\n",
       "   yakima, ahtanum  \n",
       "0                0  \n",
       "1                0  \n",
       "2                0  \n",
       "3                0  \n",
       "4                0  \n",
       "\n",
       "[5 rows x 37 columns]"
      ]
     },
     "execution_count": 3,
     "metadata": {},
     "output_type": "execute_result"
    }
   ],
   "source": [
    "df.head()"
   ]
  },
  {
   "cell_type": "code",
   "execution_count": 4,
   "metadata": {
    "ExecuteTime": {
     "end_time": "2021-02-19T19:43:28.894103Z",
     "start_time": "2021-02-19T19:43:28.888118Z"
    }
   },
   "outputs": [],
   "source": [
    "df.drop(columns = 'Unnamed: 0', inplace = True)"
   ]
  },
  {
   "cell_type": "code",
   "execution_count": 5,
   "metadata": {
    "ExecuteTime": {
     "end_time": "2021-02-19T19:43:29.572184Z",
     "start_time": "2021-02-19T19:43:29.565203Z"
    }
   },
   "outputs": [],
   "source": [
    "df['yyyymmdd'] = pd.to_datetime(df['yyyymmdd'])"
   ]
  },
  {
   "cell_type": "code",
   "execution_count": 6,
   "metadata": {
    "ExecuteTime": {
     "end_time": "2021-02-19T19:43:32.308426Z",
     "start_time": "2021-02-19T19:43:32.304436Z"
    }
   },
   "outputs": [],
   "source": [
    "df.set_index('yyyymmdd', inplace = True)"
   ]
  },
  {
   "cell_type": "code",
   "execution_count": 7,
   "metadata": {
    "ExecuteTime": {
     "end_time": "2021-02-19T19:43:33.310880Z",
     "start_time": "2021-02-19T19:43:33.289185Z"
    }
   },
   "outputs": [
    {
     "data": {
      "text/html": [
       "<div>\n",
       "<style scoped>\n",
       "    .dataframe tbody tr th:only-of-type {\n",
       "        vertical-align: middle;\n",
       "    }\n",
       "\n",
       "    .dataframe tbody tr th {\n",
       "        vertical-align: top;\n",
       "    }\n",
       "\n",
       "    .dataframe thead th {\n",
       "        text-align: right;\n",
       "    }\n",
       "</style>\n",
       "<table border=\"1\" class=\"dataframe\">\n",
       "  <thead>\n",
       "    <tr style=\"text-align: right;\">\n",
       "      <th></th>\n",
       "      <th>lat</th>\n",
       "      <th>long</th>\n",
       "      <th>station_id</th>\n",
       "      <th>acton_id</th>\n",
       "      <th>station_name</th>\n",
       "      <th>elevation</th>\n",
       "      <th>wteq_amt</th>\n",
       "      <th>wteq_med</th>\n",
       "      <th>wteq_amt_pct_med</th>\n",
       "      <th>prec_wytd_amt</th>\n",
       "      <th>...</th>\n",
       "      <th>lower columbia, hood river</th>\n",
       "      <th>owyhee malheur</th>\n",
       "      <th>raft, goose, salmon falls, bruneau</th>\n",
       "      <th>snake above palisades</th>\n",
       "      <th>umatilla, walla walla, willow</th>\n",
       "      <th>upper clark fork river basin</th>\n",
       "      <th>weiser, payette, boise</th>\n",
       "      <th>white, green, cedar, skykomish, snoqualmi, baker, skagit</th>\n",
       "      <th>willamette</th>\n",
       "      <th>yakima, ahtanum</th>\n",
       "    </tr>\n",
       "    <tr>\n",
       "      <th>yyyymmdd</th>\n",
       "      <th></th>\n",
       "      <th></th>\n",
       "      <th></th>\n",
       "      <th></th>\n",
       "      <th></th>\n",
       "      <th></th>\n",
       "      <th></th>\n",
       "      <th></th>\n",
       "      <th></th>\n",
       "      <th></th>\n",
       "      <th></th>\n",
       "      <th></th>\n",
       "      <th></th>\n",
       "      <th></th>\n",
       "      <th></th>\n",
       "      <th></th>\n",
       "      <th></th>\n",
       "      <th></th>\n",
       "      <th></th>\n",
       "      <th></th>\n",
       "      <th></th>\n",
       "    </tr>\n",
       "  </thead>\n",
       "  <tbody>\n",
       "    <tr>\n",
       "      <th>1990-02-10</th>\n",
       "      <td>48.566667</td>\n",
       "      <td>-115.450000</td>\n",
       "      <td>311</td>\n",
       "      <td>15A08S</td>\n",
       "      <td>Banfield Mountain</td>\n",
       "      <td>5600</td>\n",
       "      <td>17.2</td>\n",
       "      <td>12.2</td>\n",
       "      <td>141.0</td>\n",
       "      <td>23.8</td>\n",
       "      <td>...</td>\n",
       "      <td>0</td>\n",
       "      <td>0</td>\n",
       "      <td>0</td>\n",
       "      <td>0</td>\n",
       "      <td>0</td>\n",
       "      <td>0</td>\n",
       "      <td>0</td>\n",
       "      <td>0</td>\n",
       "      <td>0</td>\n",
       "      <td>0</td>\n",
       "    </tr>\n",
       "    <tr>\n",
       "      <th>1990-02-10</th>\n",
       "      <td>45.000000</td>\n",
       "      <td>-117.166667</td>\n",
       "      <td>736</td>\n",
       "      <td>17D08S</td>\n",
       "      <td>Schneider Meadows</td>\n",
       "      <td>5400</td>\n",
       "      <td>21.6</td>\n",
       "      <td>22.0</td>\n",
       "      <td>98.0</td>\n",
       "      <td>21.3</td>\n",
       "      <td>...</td>\n",
       "      <td>0</td>\n",
       "      <td>0</td>\n",
       "      <td>0</td>\n",
       "      <td>0</td>\n",
       "      <td>0</td>\n",
       "      <td>0</td>\n",
       "      <td>0</td>\n",
       "      <td>0</td>\n",
       "      <td>0</td>\n",
       "      <td>0</td>\n",
       "    </tr>\n",
       "    <tr>\n",
       "      <th>1990-02-10</th>\n",
       "      <td>45.083333</td>\n",
       "      <td>-117.550000</td>\n",
       "      <td>812</td>\n",
       "      <td>17D07S</td>\n",
       "      <td>Taylor Green</td>\n",
       "      <td>5740</td>\n",
       "      <td>9.8</td>\n",
       "      <td>15.2</td>\n",
       "      <td>64.0</td>\n",
       "      <td>15.0</td>\n",
       "      <td>...</td>\n",
       "      <td>0</td>\n",
       "      <td>0</td>\n",
       "      <td>0</td>\n",
       "      <td>0</td>\n",
       "      <td>0</td>\n",
       "      <td>0</td>\n",
       "      <td>0</td>\n",
       "      <td>0</td>\n",
       "      <td>0</td>\n",
       "      <td>0</td>\n",
       "    </tr>\n",
       "    <tr>\n",
       "      <th>1990-02-10</th>\n",
       "      <td>45.066667</td>\n",
       "      <td>-118.150000</td>\n",
       "      <td>873</td>\n",
       "      <td>18D21S</td>\n",
       "      <td>Wolf Creek</td>\n",
       "      <td>5630</td>\n",
       "      <td>8.4</td>\n",
       "      <td>12.6</td>\n",
       "      <td>67.0</td>\n",
       "      <td>10.2</td>\n",
       "      <td>...</td>\n",
       "      <td>0</td>\n",
       "      <td>0</td>\n",
       "      <td>0</td>\n",
       "      <td>0</td>\n",
       "      <td>0</td>\n",
       "      <td>0</td>\n",
       "      <td>0</td>\n",
       "      <td>0</td>\n",
       "      <td>0</td>\n",
       "      <td>0</td>\n",
       "    </tr>\n",
       "    <tr>\n",
       "      <th>1990-02-10</th>\n",
       "      <td>44.300000</td>\n",
       "      <td>-115.233333</td>\n",
       "      <td>312</td>\n",
       "      <td>15E11S</td>\n",
       "      <td>Banner Summit</td>\n",
       "      <td>7040</td>\n",
       "      <td>15.1</td>\n",
       "      <td>16.8</td>\n",
       "      <td>90.0</td>\n",
       "      <td>18.4</td>\n",
       "      <td>...</td>\n",
       "      <td>0</td>\n",
       "      <td>0</td>\n",
       "      <td>0</td>\n",
       "      <td>0</td>\n",
       "      <td>0</td>\n",
       "      <td>0</td>\n",
       "      <td>0</td>\n",
       "      <td>0</td>\n",
       "      <td>0</td>\n",
       "      <td>0</td>\n",
       "    </tr>\n",
       "  </tbody>\n",
       "</table>\n",
       "<p>5 rows × 35 columns</p>\n",
       "</div>"
      ],
      "text/plain": [
       "                  lat        long  station_id acton_id       station_name  \\\n",
       "yyyymmdd                                                                    \n",
       "1990-02-10  48.566667 -115.450000         311   15A08S  Banfield Mountain   \n",
       "1990-02-10  45.000000 -117.166667         736   17D08S  Schneider Meadows   \n",
       "1990-02-10  45.083333 -117.550000         812   17D07S       Taylor Green   \n",
       "1990-02-10  45.066667 -118.150000         873   18D21S         Wolf Creek   \n",
       "1990-02-10  44.300000 -115.233333         312   15E11S      Banner Summit   \n",
       "\n",
       "            elevation  wteq_amt  wteq_med  wteq_amt_pct_med  prec_wytd_amt  \\\n",
       "yyyymmdd                                                                     \n",
       "1990-02-10       5600      17.2      12.2             141.0           23.8   \n",
       "1990-02-10       5400      21.6      22.0              98.0           21.3   \n",
       "1990-02-10       5740       9.8      15.2              64.0           15.0   \n",
       "1990-02-10       5630       8.4      12.6              67.0           10.2   \n",
       "1990-02-10       7040      15.1      16.8              90.0           18.4   \n",
       "\n",
       "            ...  lower columbia, hood river  owyhee malheur  \\\n",
       "yyyymmdd    ...                                               \n",
       "1990-02-10  ...                           0               0   \n",
       "1990-02-10  ...                           0               0   \n",
       "1990-02-10  ...                           0               0   \n",
       "1990-02-10  ...                           0               0   \n",
       "1990-02-10  ...                           0               0   \n",
       "\n",
       "            raft, goose, salmon falls, bruneau  snake above palisades  \\\n",
       "yyyymmdd                                                                \n",
       "1990-02-10                                   0                      0   \n",
       "1990-02-10                                   0                      0   \n",
       "1990-02-10                                   0                      0   \n",
       "1990-02-10                                   0                      0   \n",
       "1990-02-10                                   0                      0   \n",
       "\n",
       "            umatilla, walla walla, willow  upper clark fork river basin  \\\n",
       "yyyymmdd                                                                  \n",
       "1990-02-10                              0                             0   \n",
       "1990-02-10                              0                             0   \n",
       "1990-02-10                              0                             0   \n",
       "1990-02-10                              0                             0   \n",
       "1990-02-10                              0                             0   \n",
       "\n",
       "            weiser, payette, boise  \\\n",
       "yyyymmdd                             \n",
       "1990-02-10                       0   \n",
       "1990-02-10                       0   \n",
       "1990-02-10                       0   \n",
       "1990-02-10                       0   \n",
       "1990-02-10                       0   \n",
       "\n",
       "            white, green, cedar, skykomish, snoqualmi, baker, skagit  \\\n",
       "yyyymmdd                                                               \n",
       "1990-02-10                                                  0          \n",
       "1990-02-10                                                  0          \n",
       "1990-02-10                                                  0          \n",
       "1990-02-10                                                  0          \n",
       "1990-02-10                                                  0          \n",
       "\n",
       "            willamette  yakima, ahtanum  \n",
       "yyyymmdd                                 \n",
       "1990-02-10           0                0  \n",
       "1990-02-10           0                0  \n",
       "1990-02-10           0                0  \n",
       "1990-02-10           0                0  \n",
       "1990-02-10           0                0  \n",
       "\n",
       "[5 rows x 35 columns]"
      ]
     },
     "execution_count": 7,
     "metadata": {},
     "output_type": "execute_result"
    }
   ],
   "source": [
    "df.head()"
   ]
  },
  {
   "cell_type": "code",
   "execution_count": 12,
   "metadata": {
    "ExecuteTime": {
     "end_time": "2021-02-19T19:46:12.897560Z",
     "start_time": "2021-02-19T19:46:12.891600Z"
    }
   },
   "outputs": [],
   "source": [
    "df.sort_index(inplace = True)"
   ]
  },
  {
   "cell_type": "code",
   "execution_count": 13,
   "metadata": {
    "ExecuteTime": {
     "end_time": "2021-02-19T19:46:13.906689Z",
     "start_time": "2021-02-19T19:46:13.899200Z"
    }
   },
   "outputs": [
    {
     "data": {
      "text/plain": [
       "14C05S    96\n",
       "14F04S    96\n",
       "13C01S    96\n",
       "15E04S    64\n",
       "14A11S    64\n",
       "          ..\n",
       "16H04S    12\n",
       "14A19S    10\n",
       "23D03S    10\n",
       "21B31S    10\n",
       "14B04S    10\n",
       "Name: acton_id, Length: 227, dtype: int64"
      ]
     },
     "execution_count": 13,
     "metadata": {},
     "output_type": "execute_result"
    }
   ],
   "source": [
    "df.acton_id.value_counts()"
   ]
  },
  {
   "cell_type": "code",
   "execution_count": 14,
   "metadata": {
    "ExecuteTime": {
     "end_time": "2021-02-19T19:46:14.847815Z",
     "start_time": "2021-02-19T19:46:14.840834Z"
    }
   },
   "outputs": [
    {
     "data": {
      "text/plain": [
       "1998-02-10    279\n",
       "1993-02-10    279\n",
       "1999-02-10    279\n",
       "1994-02-10    279\n",
       "1995-02-10    279\n",
       "1990-02-10    279\n",
       "1996-02-10    279\n",
       "1991-02-10    279\n",
       "1992-02-10    279\n",
       "1997-02-10    279\n",
       "2008-02-10    274\n",
       "2019-02-10    274\n",
       "2004-02-10    274\n",
       "2000-02-10    274\n",
       "2017-02-10    274\n",
       "2013-02-10    274\n",
       "2014-02-10    274\n",
       "2009-02-10    274\n",
       "2020-02-10    274\n",
       "2015-02-10    274\n",
       "2010-02-10    274\n",
       "2005-02-10    274\n",
       "2016-02-10    274\n",
       "2011-02-10    274\n",
       "2006-02-10    274\n",
       "2001-02-10    274\n",
       "2012-02-10    274\n",
       "2007-02-10    274\n",
       "2002-02-10    274\n",
       "2003-02-10    274\n",
       "2018-02-10    272\n",
       "2021-02-10    270\n",
       "Name: yyyymmdd, dtype: int64"
      ]
     },
     "execution_count": 14,
     "metadata": {},
     "output_type": "execute_result"
    }
   ],
   "source": [
    "df.index.value_counts()"
   ]
  },
  {
   "cell_type": "code",
   "execution_count": 16,
   "metadata": {
    "ExecuteTime": {
     "end_time": "2021-02-19T19:48:14.133932Z",
     "start_time": "2021-02-19T19:48:13.937302Z"
    }
   },
   "outputs": [
    {
     "data": {
      "text/plain": [
       "[<matplotlib.lines.Line2D at 0x1a27bd4c910>]"
      ]
     },
     "execution_count": 16,
     "metadata": {},
     "output_type": "execute_result"
    },
    {
     "data": {
      "image/png": "[encoded data removed]",
      "text/plain": [
       "<Figure size 432x288 with 1 Axes>"
      ]
     },
     "metadata": {
      "needs_background": "light"
     },
     "output_type": "display_data"
    }
   ],
   "source": [
    "plt.plot(df.groupby(df.index)['wteq_amt'].mean())"
   ]
  },
  {
   "cell_type": "code",
   "execution_count": 19,
   "metadata": {
    "ExecuteTime": {
     "end_time": "2021-02-19T19:53:20.917723Z",
     "start_time": "2021-02-19T19:53:20.906109Z"
    }
   },
   "outputs": [],
   "source": [
    "X = df.drop(columns = ['wteq_amt', 'station_name', 'acton_id']).values"
   ]
  },
  {
   "cell_type": "code",
   "execution_count": 20,
   "metadata": {
    "ExecuteTime": {
     "end_time": "2021-02-19T19:53:22.360904Z",
     "start_time": "2021-02-19T19:53:22.357913Z"
    }
   },
   "outputs": [],
   "source": [
    "y = df['wteq_amt'].values"
   ]
  },
  {
   "cell_type": "code",
   "execution_count": 22,
   "metadata": {
    "ExecuteTime": {
     "end_time": "2021-02-19T19:54:40.219397Z",
     "start_time": "2021-02-19T19:54:40.213414Z"
    }
   },
   "outputs": [],
   "source": [
    "X_train, X_test, y_train, y_test = train_test_split(X, y, shuffle = False)"
   ]
  },
  {
   "cell_type": "code",
   "execution_count": 23,
   "metadata": {
    "ExecuteTime": {
     "end_time": "2021-02-19T19:54:41.366037Z",
     "start_time": "2021-02-19T19:54:41.355265Z"
    }
   },
   "outputs": [],
   "source": [
    "ss = StandardScaler()\n",
    "X_train_sc = ss.fit_transform(X_train)\n",
    "X_test_sc = ss.transform(X_test)"
   ]
  },
  {
   "cell_type": "code",
   "execution_count": 24,
   "metadata": {
    "ExecuteTime": {
     "end_time": "2021-02-19T19:54:55.018866Z",
     "start_time": "2021-02-19T19:54:55.014876Z"
    }
   },
   "outputs": [],
   "source": [
    "train_sequences = TimeseriesGenerator(X_train_sc, y_train, length=279, batch_size=64)"
   ]
  },
  {
   "cell_type": "code",
   "execution_count": 25,
   "metadata": {
    "ExecuteTime": {
     "end_time": "2021-02-19T19:55:01.248741Z",
     "start_time": "2021-02-19T19:55:01.243754Z"
    }
   },
   "outputs": [],
   "source": [
    "batch_x, batch_y = train_sequences[0]"
   ]
  },
  {
   "cell_type": "code",
   "execution_count": 26,
   "metadata": {
    "ExecuteTime": {
     "end_time": "2021-02-19T19:55:09.471109Z",
     "start_time": "2021-02-19T19:55:09.466123Z"
    }
   },
   "outputs": [
    {
     "data": {
      "text/plain": [
       "(64, 279, 32)"
      ]
     },
     "execution_count": 26,
     "metadata": {},
     "output_type": "execute_result"
    }
   ],
   "source": [
    "batch_x.shape"
   ]
  },
  {
   "cell_type": "code",
   "execution_count": 27,
   "metadata": {
    "ExecuteTime": {
     "end_time": "2021-02-19T19:55:14.983505Z",
     "start_time": "2021-02-19T19:55:14.978519Z"
    }
   },
   "outputs": [
    {
     "data": {
      "text/plain": [
       "(64,)"
      ]
     },
     "execution_count": 27,
     "metadata": {},
     "output_type": "execute_result"
    }
   ],
   "source": [
    "batch_y.shape"
   ]
  },
  {
   "cell_type": "code",
   "execution_count": 28,
   "metadata": {
    "ExecuteTime": {
     "end_time": "2021-02-19T19:55:26.593276Z",
     "start_time": "2021-02-19T19:55:26.590284Z"
    }
   },
   "outputs": [],
   "source": [
    "test_sequences = TimeseriesGenerator(X_test_sc, y_test, length=279, batch_size=64)"
   ]
  },
  {
   "cell_type": "code",
   "execution_count": 29,
   "metadata": {
    "ExecuteTime": {
     "end_time": "2021-02-19T19:55:32.623044Z",
     "start_time": "2021-02-19T19:55:32.615662Z"
    }
   },
   "outputs": [
    {
     "data": {
      "text/plain": [
       "(64, 279, 32)"
      ]
     },
     "execution_count": 29,
     "metadata": {},
     "output_type": "execute_result"
    }
   ],
   "source": [
    "train_sequences[0][0].shape"
   ]
  },
  {
   "cell_type": "code",
   "execution_count": 30,
   "metadata": {
    "ExecuteTime": {
     "end_time": "2021-02-19T19:55:39.348455Z",
     "start_time": "2021-02-19T19:55:39.342880Z"
    }
   },
   "outputs": [],
   "source": [
    "input_shape = train_sequences[0][0][0].shape"
   ]
  },
  {
   "cell_type": "code",
   "execution_count": 34,
   "metadata": {
    "ExecuteTime": {
     "end_time": "2021-02-19T20:01:46.859928Z",
     "start_time": "2021-02-19T20:01:46.077130Z"
    }
   },
   "outputs": [],
   "source": [
    "model = Sequential()\n",
    "model.add(GRU(64, input_shape=input_shape, return_sequences=True))\n",
    "model.add(GRU(64, return_sequences=True))\n",
    "model.add(GRU(64, return_sequences=False))\n",
    "\n",
    "model.add(Dense(64, activation='relu'))\n",
    "model.add(Dense(32, activation='relu'))\n",
    "\n",
    "model.add(Dense(1, activation=None))"
   ]
  },
  {
   "cell_type": "code",
   "execution_count": 35,
   "metadata": {
    "ExecuteTime": {
     "end_time": "2021-02-19T20:08:16.281854Z",
     "start_time": "2021-02-19T20:01:48.042244Z"
    }
   },
   "outputs": [
    {
     "name": "stdout",
     "output_type": "stream",
     "text": [
      "Epoch 1/10\n",
      "99/99 [==============================] - 44s 393ms/step - loss: 259.0338 - val_loss: 97.2828\n",
      "Epoch 2/10\n",
      "99/99 [==============================] - 38s 380ms/step - loss: 105.7012 - val_loss: 75.6773\n",
      "Epoch 3/10\n",
      "99/99 [==============================] - 38s 388ms/step - loss: 100.8120 - val_loss: 71.6084\n",
      "Epoch 4/10\n",
      "99/99 [==============================] - 38s 387ms/step - loss: 83.2854 - val_loss: 72.9731\n",
      "Epoch 5/10\n",
      "99/99 [==============================] - 38s 387ms/step - loss: 80.8722 - val_loss: 67.4913\n",
      "Epoch 6/10\n",
      "99/99 [==============================] - 38s 387ms/step - loss: 81.7138 - val_loss: 66.8099\n",
      "Epoch 7/10\n",
      "99/99 [==============================] - 38s 388ms/step - loss: 84.6365 - val_loss: 65.5166\n",
      "Epoch 8/10\n",
      "99/99 [==============================] - 38s 383ms/step - loss: 72.6916 - val_loss: 62.6179\n",
      "Epoch 9/10\n",
      "99/99 [==============================] - 38s 388ms/step - loss: 75.9759 - val_loss: 62.2624\n",
      "Epoch 10/10\n",
      "99/99 [==============================] - 38s 387ms/step - loss: 73.0536 - val_loss: 58.6102\n"
     ]
    }
   ],
   "source": [
    "model.compile(optimizer='adam', loss='mse')\n",
    "\n",
    "history = model.fit(train_sequences, validation_data=test_sequences, epochs=10, verbose=1)"
   ]
  },
  {
   "cell_type": "code",
   "execution_count": 38,
   "metadata": {
    "ExecuteTime": {
     "end_time": "2021-02-19T20:09:17.483888Z",
     "start_time": "2021-02-19T20:09:17.332416Z"
    }
   },
   "outputs": [
    {
     "data": {
      "image/png": "[encoded data removed]",
      "text/plain": [
       "<Figure size 432x288 with 1 Axes>"
      ]
     },
     "metadata": {
      "needs_background": "light"
     },
     "output_type": "display_data"
    }
   ],
   "source": [
    "plt.plot(history.history['loss'], label='Train loss')\n",
    "plt.plot(history.history['val_loss'], label='Test loss')\n",
    "plt.legend();"
   ]
  },
  {
   "cell_type": "code",
   "execution_count": null,
   "metadata": {},
   "outputs": [],
   "source": []
  }
 ],
 "metadata": {
  "kernelspec": {
   "display_name": "Python 3",
   "language": "python",
   "name": "python3"
  },
  "language_info": {
   "codemirror_mode": {
    "name": "ipython",
    "version": 3
   },
   "file_extension": ".py",
   "mimetype": "text/x-python",
   "name": "python",
   "nbconvert_exporter": "python",
   "pygments_lexer": "ipython3",
   "version": "3.8.5"
  },
  "varInspector": {
   "cols": {
    "lenName": 16,
    "lenType": 16,
    "lenVar": 40
   },
   "kernels_config": {
    "python": {
     "delete_cmd_postfix": "",
     "delete_cmd_prefix": "del ",
     "library": "var_list.py",
     "varRefreshCmd": "print(var_dic_list())"
    },
    "r": {
     "delete_cmd_postfix": ") ",
     "delete_cmd_prefix": "rm(",
     "library": "var_list.r",
     "varRefreshCmd": "cat(var_dic_list()) "
    }
   },
   "types_to_exclude": [
    "module",
    "function",
    "builtin_function_or_method",
    "instance",
    "_Feature"
   ],
   "window_display": false
  }
 },
 "nbformat": 4,
 "nbformat_minor": 4
}
