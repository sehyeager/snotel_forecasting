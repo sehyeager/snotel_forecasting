{
 "cells": [
  {
   "cell_type": "code",
   "execution_count": 1,
   "metadata": {},
   "outputs": [],
   "source": [
    "import pandas as pd\n",
    "import numpy as np\n",
    "import matplotlib.pyplot as plt\n",
    "import seaborn as sns"
   ]
  },
  {
   "cell_type": "markdown",
   "metadata": {},
   "source": [
    "## Loading In"
   ]
  },
  {
   "cell_type": "code",
   "execution_count": 2,
   "metadata": {},
   "outputs": [],
   "source": [
    "#load in all of the datasets that I am responsible for and put them in one list\n",
    "raw_2011 = pd.read_csv('./data/2011-crb.csv')\n",
    "raw_2012 = pd.read_csv('./data/2012-crb.csv')\n",
    "raw_2013 = pd.read_csv('./data/2013-crb.csv')\n",
    "raw_2014 = pd.read_csv('./data/2014-crb.csv')\n",
    "raw_2015 = pd.read_csv('./data/2015-crb.csv')\n",
    "raw_2016 = pd.read_csv('./data/2016-crb.csv')\n",
    "raw_2017 = pd.read_csv('./data/2017-crb.csv')\n",
    "raw_2018 = pd.read_csv('./data/2018-crb.csv')\n",
    "raw_2019 = pd.read_csv('./data/2019-crb.csv')\n",
    "raw_2020 = pd.read_csv('./data/2020-crb.csv')\n",
    "raw_2021 = pd.read_csv('./data/2021-crb.csv')\n",
    "datalist = [raw_2011, raw_2012, raw_2013, raw_2014, raw_2015, raw_2016, raw_2017, raw_2018, raw_2019, raw_2020, raw_2021]"
   ]
  },
  {
   "cell_type": "code",
   "execution_count": 3,
   "metadata": {
    "scrolled": true
   },
   "outputs": [
    {
     "data": {
      "text/html": [
       "<div>\n",
       "<style scoped>\n",
       "    .dataframe tbody tr th:only-of-type {\n",
       "        vertical-align: middle;\n",
       "    }\n",
       "\n",
       "    .dataframe tbody tr th {\n",
       "        vertical-align: top;\n",
       "    }\n",
       "\n",
       "    .dataframe thead th {\n",
       "        text-align: right;\n",
       "    }\n",
       "</style>\n",
       "<table border=\"1\" class=\"dataframe\">\n",
       "  <thead>\n",
       "    <tr style=\"text-align: right;\">\n",
       "      <th></th>\n",
       "      <th>Lat</th>\n",
       "      <th>Long</th>\n",
       "      <th>YYYYMMDD</th>\n",
       "      <th>Basin_name</th>\n",
       "      <th>Station_id</th>\n",
       "      <th>Acton_id</th>\n",
       "      <th>Station_name</th>\n",
       "      <th>Elevation</th>\n",
       "      <th>Wteq_amt</th>\n",
       "      <th>Wteq_med</th>\n",
       "      <th>Wteq_amt_pct_med</th>\n",
       "      <th>Wteq_amt_pct_med_flag</th>\n",
       "      <th>Prec_wytd_amt</th>\n",
       "      <th>Prec_wytd_avg</th>\n",
       "      <th>Prec_wytd_pctavg</th>\n",
       "      <th>Prec_wytd_pct_avg_flag</th>\n",
       "      <th></th>\n",
       "    </tr>\n",
       "  </thead>\n",
       "  <tbody>\n",
       "    <tr>\n",
       "      <th>0</th>\n",
       "      <td>48.566667</td>\n",
       "      <td>-115.450000</td>\n",
       "      <td>20110210.0</td>\n",
       "      <td>KOOTENAI RIVER IN MONTANA</td>\n",
       "      <td>311</td>\n",
       "      <td>15A08S</td>\n",
       "      <td>Banfield Mountain</td>\n",
       "      <td>5600</td>\n",
       "      <td>12.1</td>\n",
       "      <td>12.2</td>\n",
       "      <td>99.0</td>\n",
       "      <td>NaN</td>\n",
       "      <td>17.5</td>\n",
       "      <td>17.8</td>\n",
       "      <td>98.0</td>\n",
       "      <td>NaN</td>\n",
       "      <td>NaN</td>\n",
       "    </tr>\n",
       "    <tr>\n",
       "      <th>1</th>\n",
       "      <td>48.300000</td>\n",
       "      <td>-116.066667</td>\n",
       "      <td>20110210.0</td>\n",
       "      <td>KOOTENAI RIVER IN MONTANA</td>\n",
       "      <td>323</td>\n",
       "      <td>16A08S</td>\n",
       "      <td>Bear Mountain</td>\n",
       "      <td>5400</td>\n",
       "      <td>37.4</td>\n",
       "      <td>38.6</td>\n",
       "      <td>97.0</td>\n",
       "      <td>NaN</td>\n",
       "      <td>54.2</td>\n",
       "      <td>49.5</td>\n",
       "      <td>109.0</td>\n",
       "      <td>NaN</td>\n",
       "      <td>NaN</td>\n",
       "    </tr>\n",
       "    <tr>\n",
       "      <th>2</th>\n",
       "      <td>48.983333</td>\n",
       "      <td>-115.816667</td>\n",
       "      <td>20110210.0</td>\n",
       "      <td>KOOTENAI RIVER IN MONTANA</td>\n",
       "      <td>918</td>\n",
       "      <td>15A05S</td>\n",
       "      <td>Garver Creek</td>\n",
       "      <td>4250</td>\n",
       "      <td>7.7</td>\n",
       "      <td>6.9</td>\n",
       "      <td>112.0</td>\n",
       "      <td>NaN</td>\n",
       "      <td>12.2</td>\n",
       "      <td>12.9</td>\n",
       "      <td>95.0</td>\n",
       "      <td>NaN</td>\n",
       "      <td>NaN</td>\n",
       "    </tr>\n",
       "    <tr>\n",
       "      <th>3</th>\n",
       "      <td>48.916667</td>\n",
       "      <td>-114.766667</td>\n",
       "      <td>20110210.0</td>\n",
       "      <td>KOOTENAI RIVER IN MONTANA</td>\n",
       "      <td>500</td>\n",
       "      <td>14A11S</td>\n",
       "      <td>Grave Creek</td>\n",
       "      <td>4300</td>\n",
       "      <td>13.1</td>\n",
       "      <td>11.4</td>\n",
       "      <td>115.0</td>\n",
       "      <td>NaN</td>\n",
       "      <td>18.6</td>\n",
       "      <td>22.8</td>\n",
       "      <td>82.0</td>\n",
       "      <td>NaN</td>\n",
       "      <td>NaN</td>\n",
       "    </tr>\n",
       "    <tr>\n",
       "      <th>4</th>\n",
       "      <td>48.300000</td>\n",
       "      <td>-114.833333</td>\n",
       "      <td>20110210.0</td>\n",
       "      <td>KOOTENAI RIVER IN MONTANA</td>\n",
       "      <td>510</td>\n",
       "      <td>14A14S</td>\n",
       "      <td>Hand Creek</td>\n",
       "      <td>5035</td>\n",
       "      <td>9.6</td>\n",
       "      <td>7.8</td>\n",
       "      <td>123.0</td>\n",
       "      <td>NaN</td>\n",
       "      <td>14.7</td>\n",
       "      <td>11.7</td>\n",
       "      <td>126.0</td>\n",
       "      <td>NaN</td>\n",
       "      <td>NaN</td>\n",
       "    </tr>\n",
       "  </tbody>\n",
       "</table>\n",
       "</div>"
      ],
      "text/plain": [
       "         Lat        Long    YYYYMMDD                 Basin_name Station_id  \\\n",
       "0  48.566667 -115.450000  20110210.0  KOOTENAI RIVER IN MONTANA        311   \n",
       "1  48.300000 -116.066667  20110210.0  KOOTENAI RIVER IN MONTANA        323   \n",
       "2  48.983333 -115.816667  20110210.0  KOOTENAI RIVER IN MONTANA        918   \n",
       "3  48.916667 -114.766667  20110210.0  KOOTENAI RIVER IN MONTANA        500   \n",
       "4  48.300000 -114.833333  20110210.0  KOOTENAI RIVER IN MONTANA        510   \n",
       "\n",
       "  Acton_id       Station_name Elevation  Wteq_amt  Wteq_med  Wteq_amt_pct_med  \\\n",
       "0   15A08S  Banfield Mountain      5600      12.1      12.2              99.0   \n",
       "1   16A08S      Bear Mountain      5400      37.4      38.6              97.0   \n",
       "2   15A05S       Garver Creek      4250       7.7       6.9             112.0   \n",
       "3   14A11S        Grave Creek      4300      13.1      11.4             115.0   \n",
       "4   14A14S         Hand Creek      5035       9.6       7.8             123.0   \n",
       "\n",
       "   Wteq_amt_pct_med_flag  Prec_wytd_amt  Prec_wytd_avg  Prec_wytd_pctavg  \\\n",
       "0                    NaN           17.5           17.8              98.0   \n",
       "1                    NaN           54.2           49.5             109.0   \n",
       "2                    NaN           12.2           12.9              95.0   \n",
       "3                    NaN           18.6           22.8              82.0   \n",
       "4                    NaN           14.7           11.7             126.0   \n",
       "\n",
       "   Prec_wytd_pct_avg_flag       \n",
       "0                     NaN  NaN  \n",
       "1                     NaN  NaN  \n",
       "2                     NaN  NaN  \n",
       "3                     NaN  NaN  \n",
       "4                     NaN  NaN  "
      ]
     },
     "execution_count": 3,
     "metadata": {},
     "output_type": "execute_result"
    }
   ],
   "source": [
    "#quick look at one year's data\n",
    "raw_2011.head()"
   ]
  },
  {
   "cell_type": "code",
   "execution_count": 4,
   "metadata": {},
   "outputs": [],
   "source": [
    "#put it all in one big dataframe\n",
    "sams_df = pd.concat(datalist)"
   ]
  },
  {
   "cell_type": "code",
   "execution_count": 5,
   "metadata": {},
   "outputs": [
    {
     "data": {
      "text/plain": [
       "Lat                        264\n",
       "Long                       264\n",
       "YYYYMMDD                   264\n",
       "Basin_name                 264\n",
       "Station_id                   0\n",
       "Acton_id                   264\n",
       "Station_name               264\n",
       "Elevation                    0\n",
       "Wteq_amt                   264\n",
       "Wteq_med                   264\n",
       "Wteq_amt_pct_med           177\n",
       "Wteq_amt_pct_med_flag     3156\n",
       "Prec_wytd_amt              264\n",
       "Prec_wytd_avg              264\n",
       "Prec_wytd_pctavg            69\n",
       "Prec_wytd_pct_avg_flag    3264\n",
       "                          3080\n",
       "dtype: int64"
      ]
     },
     "execution_count": 5,
     "metadata": {},
     "output_type": "execute_result"
    }
   ],
   "source": [
    "sams_df.isna().sum()"
   ]
  },
  {
   "cell_type": "code",
   "execution_count": 6,
   "metadata": {},
   "outputs": [
    {
     "data": {
      "text/plain": [
       "(3333, 17)"
      ]
     },
     "execution_count": 6,
     "metadata": {},
     "output_type": "execute_result"
    }
   ],
   "source": [
    "sams_df.shape"
   ]
  },
  {
   "cell_type": "code",
   "execution_count": 7,
   "metadata": {},
   "outputs": [],
   "source": [
    "#make all columns snakecase\n",
    "sams_df.rename(mapper = str.lower, axis = 1, inplace = True)\n",
    "#reset the index, since it repeats due to the concatenation\n",
    "sams_df.reset_index(drop = True, inplace= True)"
   ]
  },
  {
   "cell_type": "code",
   "execution_count": 8,
   "metadata": {},
   "outputs": [
    {
     "data": {
      "text/html": [
       "<div>\n",
       "<style scoped>\n",
       "    .dataframe tbody tr th:only-of-type {\n",
       "        vertical-align: middle;\n",
       "    }\n",
       "\n",
       "    .dataframe tbody tr th {\n",
       "        vertical-align: top;\n",
       "    }\n",
       "\n",
       "    .dataframe thead th {\n",
       "        text-align: right;\n",
       "    }\n",
       "</style>\n",
       "<table border=\"1\" class=\"dataframe\">\n",
       "  <thead>\n",
       "    <tr style=\"text-align: right;\">\n",
       "      <th></th>\n",
       "      <th>lat</th>\n",
       "      <th>long</th>\n",
       "      <th>yyyymmdd</th>\n",
       "      <th>basin_name</th>\n",
       "      <th>station_id</th>\n",
       "      <th>acton_id</th>\n",
       "      <th>station_name</th>\n",
       "      <th>elevation</th>\n",
       "      <th>wteq_amt</th>\n",
       "      <th>wteq_med</th>\n",
       "      <th>wteq_amt_pct_med</th>\n",
       "      <th>wteq_amt_pct_med_flag</th>\n",
       "      <th>prec_wytd_amt</th>\n",
       "      <th>prec_wytd_avg</th>\n",
       "      <th>prec_wytd_pctavg</th>\n",
       "      <th>prec_wytd_pct_avg_flag</th>\n",
       "      <th></th>\n",
       "    </tr>\n",
       "  </thead>\n",
       "  <tbody>\n",
       "    <tr>\n",
       "      <th>8</th>\n",
       "      <td>NaN</td>\n",
       "      <td>NaN</td>\n",
       "      <td>NaN</td>\n",
       "      <td>NaN</td>\n",
       "      <td>KOOTENAI RIVER IN MONTANA</td>\n",
       "      <td>NaN</td>\n",
       "      <td>NaN</td>\n",
       "      <td>Basin Index (%)</td>\n",
       "      <td>NaN</td>\n",
       "      <td>NaN</td>\n",
       "      <td>115.0</td>\n",
       "      <td>NaN</td>\n",
       "      <td>NaN</td>\n",
       "      <td>NaN</td>\n",
       "      <td>110.0</td>\n",
       "      <td>NaN</td>\n",
       "      <td></td>\n",
       "    </tr>\n",
       "    <tr>\n",
       "      <th>26</th>\n",
       "      <td>NaN</td>\n",
       "      <td>NaN</td>\n",
       "      <td>NaN</td>\n",
       "      <td>NaN</td>\n",
       "      <td>FLATHEAD RIVER BASIN</td>\n",
       "      <td>NaN</td>\n",
       "      <td>NaN</td>\n",
       "      <td>Basin Index (%)</td>\n",
       "      <td>NaN</td>\n",
       "      <td>NaN</td>\n",
       "      <td>144.0</td>\n",
       "      <td>NaN</td>\n",
       "      <td>NaN</td>\n",
       "      <td>NaN</td>\n",
       "      <td>127.0</td>\n",
       "      <td>NaN</td>\n",
       "      <td></td>\n",
       "    </tr>\n",
       "    <tr>\n",
       "      <th>42</th>\n",
       "      <td>NaN</td>\n",
       "      <td>NaN</td>\n",
       "      <td>NaN</td>\n",
       "      <td>NaN</td>\n",
       "      <td>UPPER CLARK FORK RIVER BASIN</td>\n",
       "      <td>NaN</td>\n",
       "      <td>NaN</td>\n",
       "      <td>Basin Index (%)</td>\n",
       "      <td>NaN</td>\n",
       "      <td>NaN</td>\n",
       "      <td>138.0</td>\n",
       "      <td>NaN</td>\n",
       "      <td>NaN</td>\n",
       "      <td>NaN</td>\n",
       "      <td>123.0</td>\n",
       "      <td>NaN</td>\n",
       "      <td></td>\n",
       "    </tr>\n",
       "    <tr>\n",
       "      <th>51</th>\n",
       "      <td>NaN</td>\n",
       "      <td>NaN</td>\n",
       "      <td>NaN</td>\n",
       "      <td>NaN</td>\n",
       "      <td>BITTERROOT</td>\n",
       "      <td>NaN</td>\n",
       "      <td>NaN</td>\n",
       "      <td>Basin Index (%)</td>\n",
       "      <td>NaN</td>\n",
       "      <td>NaN</td>\n",
       "      <td>124.0</td>\n",
       "      <td>NaN</td>\n",
       "      <td>NaN</td>\n",
       "      <td>NaN</td>\n",
       "      <td>122.0</td>\n",
       "      <td>NaN</td>\n",
       "      <td></td>\n",
       "    </tr>\n",
       "    <tr>\n",
       "      <th>60</th>\n",
       "      <td>NaN</td>\n",
       "      <td>NaN</td>\n",
       "      <td>NaN</td>\n",
       "      <td>NaN</td>\n",
       "      <td>LOWER CLARK FORK RIVER BASIN</td>\n",
       "      <td>NaN</td>\n",
       "      <td>NaN</td>\n",
       "      <td>Basin Index (%)</td>\n",
       "      <td>NaN</td>\n",
       "      <td>NaN</td>\n",
       "      <td>125.0</td>\n",
       "      <td>NaN</td>\n",
       "      <td>NaN</td>\n",
       "      <td>NaN</td>\n",
       "      <td>119.0</td>\n",
       "      <td>NaN</td>\n",
       "      <td></td>\n",
       "    </tr>\n",
       "  </tbody>\n",
       "</table>\n",
       "</div>"
      ],
      "text/plain": [
       "    lat  long  yyyymmdd basin_name                    station_id acton_id  \\\n",
       "8   NaN   NaN       NaN        NaN     KOOTENAI RIVER IN MONTANA      NaN   \n",
       "26  NaN   NaN       NaN        NaN          FLATHEAD RIVER BASIN      NaN   \n",
       "42  NaN   NaN       NaN        NaN  UPPER CLARK FORK RIVER BASIN      NaN   \n",
       "51  NaN   NaN       NaN        NaN                    BITTERROOT      NaN   \n",
       "60  NaN   NaN       NaN        NaN  LOWER CLARK FORK RIVER BASIN      NaN   \n",
       "\n",
       "   station_name        elevation  wteq_amt  wteq_med  wteq_amt_pct_med  \\\n",
       "8           NaN  Basin Index (%)       NaN       NaN             115.0   \n",
       "26          NaN  Basin Index (%)       NaN       NaN             144.0   \n",
       "42          NaN  Basin Index (%)       NaN       NaN             138.0   \n",
       "51          NaN  Basin Index (%)       NaN       NaN             124.0   \n",
       "60          NaN  Basin Index (%)       NaN       NaN             125.0   \n",
       "\n",
       "    wteq_amt_pct_med_flag  prec_wytd_amt  prec_wytd_avg  prec_wytd_pctavg  \\\n",
       "8                     NaN            NaN            NaN             110.0   \n",
       "26                    NaN            NaN            NaN             127.0   \n",
       "42                    NaN            NaN            NaN             123.0   \n",
       "51                    NaN            NaN            NaN             122.0   \n",
       "60                    NaN            NaN            NaN             119.0   \n",
       "\n",
       "    prec_wytd_pct_avg_flag     \n",
       "8                      NaN     \n",
       "26                     NaN     \n",
       "42                     NaN     \n",
       "51                     NaN     \n",
       "60                     NaN     "
      ]
     },
     "execution_count": 8,
     "metadata": {},
     "output_type": "execute_result"
    }
   ],
   "source": [
    "sams_df[sams_df['lat'].isna()].head()"
   ]
  },
  {
   "cell_type": "code",
   "execution_count": 9,
   "metadata": {},
   "outputs": [
    {
     "data": {
      "text/plain": [
       "lat                          0\n",
       "long                         0\n",
       "yyyymmdd                     0\n",
       "basin_name                   0\n",
       "station_id                   0\n",
       "acton_id                     0\n",
       "station_name                 0\n",
       "elevation                    0\n",
       "wteq_amt                     0\n",
       "wteq_med                     0\n",
       "wteq_amt_pct_med           177\n",
       "wteq_amt_pct_med_flag     2892\n",
       "prec_wytd_amt                0\n",
       "prec_wytd_avg                0\n",
       "prec_wytd_pctavg            69\n",
       "prec_wytd_pct_avg_flag    3000\n",
       "                          3069\n",
       "dtype: int64"
      ]
     },
     "execution_count": 9,
     "metadata": {},
     "output_type": "execute_result"
    }
   ],
   "source": [
    "sams_df.dropna(thresh = 6).isna().sum()"
   ]
  },
  {
   "cell_type": "code",
   "execution_count": 10,
   "metadata": {},
   "outputs": [],
   "source": [
    "#replacing the SNOTEL missing data codes with Nulls.\n",
    "sams_df.replace({-999: None, -998:None, -997: None}, inplace= True)"
   ]
  },
  {
   "cell_type": "code",
   "execution_count": 11,
   "metadata": {},
   "outputs": [],
   "source": [
    "#dropping every row with too many nulls.  What's left, we can impute.\n",
    "sams_df.dropna(thresh = 12, inplace= True)"
   ]
  },
  {
   "cell_type": "code",
   "execution_count": 12,
   "metadata": {},
   "outputs": [
    {
     "data": {
      "text/plain": [
       "lat                          0\n",
       "long                         0\n",
       "yyyymmdd                     0\n",
       "basin_name                   0\n",
       "station_id                   0\n",
       "acton_id                     0\n",
       "station_name                 0\n",
       "elevation                    0\n",
       "wteq_amt                     4\n",
       "wteq_med                    90\n",
       "wteq_amt_pct_med           116\n",
       "wteq_amt_pct_med_flag     3008\n",
       "prec_wytd_amt                6\n",
       "prec_wytd_avg               11\n",
       "prec_wytd_pctavg            17\n",
       "prec_wytd_pct_avg_flag    3008\n",
       "                          3008\n",
       "dtype: int64"
      ]
     },
     "execution_count": 12,
     "metadata": {},
     "output_type": "execute_result"
    }
   ],
   "source": [
    "sams_df.isna().sum()"
   ]
  },
  {
   "cell_type": "code",
   "execution_count": 13,
   "metadata": {},
   "outputs": [],
   "source": [
    "#let's swap the date column from a string to an actual datetime\n",
    "sams_df['yyyymmdd'] = pd.to_datetime(sams_df['yyyymmdd'], format='%Y%m%d')"
   ]
  },
  {
   "cell_type": "code",
   "execution_count": 14,
   "metadata": {},
   "outputs": [
    {
     "data": {
      "text/plain": [
       "lat                              float64\n",
       "long                             float64\n",
       "yyyymmdd                  datetime64[ns]\n",
       "basin_name                        object\n",
       "station_id                        object\n",
       "acton_id                          object\n",
       "station_name                      object\n",
       "elevation                         object\n",
       "wteq_amt                         float64\n",
       "wteq_med                         float64\n",
       "wteq_amt_pct_med                 float64\n",
       "wteq_amt_pct_med_flag            float64\n",
       "prec_wytd_amt                    float64\n",
       "prec_wytd_avg                    float64\n",
       "prec_wytd_pctavg                 float64\n",
       "prec_wytd_pct_avg_flag           float64\n",
       "                                  object\n",
       "dtype: object"
      ]
     },
     "execution_count": 14,
     "metadata": {},
     "output_type": "execute_result"
    }
   ],
   "source": [
    "sams_df.dtypes"
   ]
  },
  {
   "cell_type": "code",
   "execution_count": 15,
   "metadata": {},
   "outputs": [],
   "source": [
    "#change the elevation and station columns to ints as well\n",
    "sams_df['elevation'] = sams_df['elevation'].map(int)\n",
    "sams_df['station_id'] = sams_df['station_id'].map(int)"
   ]
  },
  {
   "cell_type": "code",
   "execution_count": 16,
   "metadata": {},
   "outputs": [],
   "source": [
    "#drop the flag columns, as they are null for the entire dataset.\n",
    "sams_df.drop(columns = ['wteq_amt_pct_med_flag', 'prec_wytd_pct_avg_flag', ' '], inplace = True)"
   ]
  },
  {
   "cell_type": "code",
   "execution_count": 17,
   "metadata": {},
   "outputs": [
    {
     "data": {
      "text/plain": [
       "lat                   0\n",
       "long                  0\n",
       "yyyymmdd              0\n",
       "basin_name            0\n",
       "station_id            0\n",
       "acton_id              0\n",
       "station_name          0\n",
       "elevation             0\n",
       "wteq_amt              4\n",
       "wteq_med             90\n",
       "wteq_amt_pct_med    116\n",
       "prec_wytd_amt         6\n",
       "prec_wytd_avg        11\n",
       "prec_wytd_pctavg     17\n",
       "dtype: int64"
      ]
     },
     "execution_count": 17,
     "metadata": {},
     "output_type": "execute_result"
    }
   ],
   "source": [
    "#how many nulls are left?\n",
    "sams_df.isna().sum()"
   ]
  },
  {
   "cell_type": "code",
   "execution_count": 34,
   "metadata": {},
   "outputs": [
    {
     "data": {
      "text/plain": [
       "24"
      ]
     },
     "execution_count": 34,
     "metadata": {},
     "output_type": "execute_result"
    }
   ],
   "source": [
    "len(sams_df.basin_name.unique())"
   ]
  },
  {
   "cell_type": "code",
   "execution_count": 18,
   "metadata": {},
   "outputs": [],
   "source": [
    "#building a function to do the same for all my other null features\n",
    "features_to_fill = ['wteq_amt', 'wteq_med', 'wteq_amt_pct_med', 'prec_wytd_amt', 'prec_wytd_avg', 'prec_wytd_pctavg']\n",
    "def null_filler(feature):\n",
    "   return sams_df.groupby(by = sams_df['yyyymmdd'])[feature].transform(lambda x: x.fillna(x.median()))\n",
    "    "
   ]
  },
  {
   "cell_type": "code",
   "execution_count": 19,
   "metadata": {},
   "outputs": [],
   "source": [
    "for feature in features_to_fill:\n",
    "    sams_df[feature] = null_filler(feature)"
   ]
  },
  {
   "cell_type": "code",
   "execution_count": 20,
   "metadata": {},
   "outputs": [
    {
     "data": {
      "text/plain": [
       "lat                 0\n",
       "long                0\n",
       "yyyymmdd            0\n",
       "basin_name          0\n",
       "station_id          0\n",
       "acton_id            0\n",
       "station_name        0\n",
       "elevation           0\n",
       "wteq_amt            0\n",
       "wteq_med            0\n",
       "wteq_amt_pct_med    0\n",
       "prec_wytd_amt       0\n",
       "prec_wytd_avg       0\n",
       "prec_wytd_pctavg    0\n",
       "dtype: int64"
      ]
     },
     "execution_count": 20,
     "metadata": {},
     "output_type": "execute_result"
    }
   ],
   "source": [
    "sams_df.isna().sum()"
   ]
  },
  {
   "cell_type": "code",
   "execution_count": 21,
   "metadata": {},
   "outputs": [],
   "source": [
    "#since we're doing time-series work, let's make the index that date\n",
    "sams_df.set_index('yyyymmdd', inplace = True)"
   ]
  },
  {
   "cell_type": "code",
   "execution_count": 23,
   "metadata": {},
   "outputs": [],
   "source": [
    " clean_df = pd.concat([sams_df.drop(columns = 'basin_name')\n",
    "          , pd.get_dummies(data = sams_df.basin_name)], axis = 1)"
   ]
  },
  {
   "cell_type": "markdown",
   "metadata": {},
   "source": [
    "## Nulls imputed, now for some statistics"
   ]
  },
  {
   "cell_type": "code",
   "execution_count": 24,
   "metadata": {},
   "outputs": [
    {
     "data": {
      "text/html": [
       "<div>\n",
       "<style scoped>\n",
       "    .dataframe tbody tr th:only-of-type {\n",
       "        vertical-align: middle;\n",
       "    }\n",
       "\n",
       "    .dataframe tbody tr th {\n",
       "        vertical-align: top;\n",
       "    }\n",
       "\n",
       "    .dataframe thead th {\n",
       "        text-align: right;\n",
       "    }\n",
       "</style>\n",
       "<table border=\"1\" class=\"dataframe\">\n",
       "  <thead>\n",
       "    <tr style=\"text-align: right;\">\n",
       "      <th></th>\n",
       "      <th>lat</th>\n",
       "      <th>long</th>\n",
       "      <th>station_id</th>\n",
       "      <th>elevation</th>\n",
       "      <th>wteq_amt</th>\n",
       "      <th>wteq_med</th>\n",
       "      <th>wteq_amt_pct_med</th>\n",
       "      <th>prec_wytd_amt</th>\n",
       "      <th>prec_wytd_avg</th>\n",
       "      <th>prec_wytd_pctavg</th>\n",
       "      <th>...</th>\n",
       "      <th>LOWER COLUMBIA, HOOD RIVER</th>\n",
       "      <th>OWYHEE MALHEUR</th>\n",
       "      <th>RAFT, GOOSE, SALMON FALLS, BRUNEAU</th>\n",
       "      <th>SNAKE ABOVE PALISADES</th>\n",
       "      <th>UMATILLA, WALLA WALLA, WILLOW</th>\n",
       "      <th>UPPER CLARK FORK RIVER BASIN</th>\n",
       "      <th>WEISER, PAYETTE, BOISE</th>\n",
       "      <th>WHITE, GREEN, CEDAR, SKYKOMISH, SNOQUALMI, BAKER, SKAGIT</th>\n",
       "      <th>WILLAMETTE</th>\n",
       "      <th>YAKIMA, AHTANUM</th>\n",
       "    </tr>\n",
       "  </thead>\n",
       "  <tbody>\n",
       "    <tr>\n",
       "      <th>count</th>\n",
       "      <td>3008.000000</td>\n",
       "      <td>3008.000000</td>\n",
       "      <td>3008.000000</td>\n",
       "      <td>3008.000000</td>\n",
       "      <td>3008.000000</td>\n",
       "      <td>3008.000000</td>\n",
       "      <td>3008.000000</td>\n",
       "      <td>3008.000000</td>\n",
       "      <td>3008.000000</td>\n",
       "      <td>3008.000000</td>\n",
       "      <td>...</td>\n",
       "      <td>3008.000000</td>\n",
       "      <td>3008.000000</td>\n",
       "      <td>3008.000000</td>\n",
       "      <td>3008.000000</td>\n",
       "      <td>3008.000000</td>\n",
       "      <td>3008.000000</td>\n",
       "      <td>3008.000000</td>\n",
       "      <td>3008.000000</td>\n",
       "      <td>3008.000000</td>\n",
       "      <td>3008.000000</td>\n",
       "    </tr>\n",
       "    <tr>\n",
       "      <th>mean</th>\n",
       "      <td>45.418334</td>\n",
       "      <td>-116.424640</td>\n",
       "      <td>605.074468</td>\n",
       "      <td>5979.151928</td>\n",
       "      <td>14.972374</td>\n",
       "      <td>15.843816</td>\n",
       "      <td>95.675532</td>\n",
       "      <td>24.864894</td>\n",
       "      <td>24.864528</td>\n",
       "      <td>100.551529</td>\n",
       "      <td>...</td>\n",
       "      <td>0.021941</td>\n",
       "      <td>0.033577</td>\n",
       "      <td>0.029255</td>\n",
       "      <td>0.054854</td>\n",
       "      <td>0.018285</td>\n",
       "      <td>0.054854</td>\n",
       "      <td>0.065824</td>\n",
       "      <td>0.032247</td>\n",
       "      <td>0.073138</td>\n",
       "      <td>0.028923</td>\n",
       "    </tr>\n",
       "    <tr>\n",
       "      <th>std</th>\n",
       "      <td>1.852166</td>\n",
       "      <td>3.534227</td>\n",
       "      <td>175.160375</td>\n",
       "      <td>1541.654299</td>\n",
       "      <td>9.025920</td>\n",
       "      <td>8.280473</td>\n",
       "      <td>32.367827</td>\n",
       "      <td>16.230453</td>\n",
       "      <td>15.263817</td>\n",
       "      <td>22.840754</td>\n",
       "      <td>...</td>\n",
       "      <td>0.146517</td>\n",
       "      <td>0.180168</td>\n",
       "      <td>0.168549</td>\n",
       "      <td>0.227732</td>\n",
       "      <td>0.134001</td>\n",
       "      <td>0.227732</td>\n",
       "      <td>0.248016</td>\n",
       "      <td>0.176686</td>\n",
       "      <td>0.260407</td>\n",
       "      <td>0.167618</td>\n",
       "    </tr>\n",
       "    <tr>\n",
       "      <th>min</th>\n",
       "      <td>41.233333</td>\n",
       "      <td>-123.366667</td>\n",
       "      <td>302.000000</td>\n",
       "      <td>2060.000000</td>\n",
       "      <td>0.000000</td>\n",
       "      <td>0.000000</td>\n",
       "      <td>0.000000</td>\n",
       "      <td>3.200000</td>\n",
       "      <td>6.000000</td>\n",
       "      <td>30.000000</td>\n",
       "      <td>...</td>\n",
       "      <td>0.000000</td>\n",
       "      <td>0.000000</td>\n",
       "      <td>0.000000</td>\n",
       "      <td>0.000000</td>\n",
       "      <td>0.000000</td>\n",
       "      <td>0.000000</td>\n",
       "      <td>0.000000</td>\n",
       "      <td>0.000000</td>\n",
       "      <td>0.000000</td>\n",
       "      <td>0.000000</td>\n",
       "    </tr>\n",
       "    <tr>\n",
       "      <th>25%</th>\n",
       "      <td>43.950000</td>\n",
       "      <td>-119.833333</td>\n",
       "      <td>466.000000</td>\n",
       "      <td>4930.000000</td>\n",
       "      <td>8.400000</td>\n",
       "      <td>9.900000</td>\n",
       "      <td>81.000000</td>\n",
       "      <td>13.600000</td>\n",
       "      <td>14.100000</td>\n",
       "      <td>86.000000</td>\n",
       "      <td>...</td>\n",
       "      <td>0.000000</td>\n",
       "      <td>0.000000</td>\n",
       "      <td>0.000000</td>\n",
       "      <td>0.000000</td>\n",
       "      <td>0.000000</td>\n",
       "      <td>0.000000</td>\n",
       "      <td>0.000000</td>\n",
       "      <td>0.000000</td>\n",
       "      <td>0.000000</td>\n",
       "      <td>0.000000</td>\n",
       "    </tr>\n",
       "    <tr>\n",
       "      <th>50%</th>\n",
       "      <td>45.183333</td>\n",
       "      <td>-115.666667</td>\n",
       "      <td>608.000000</td>\n",
       "      <td>5870.000000</td>\n",
       "      <td>13.300000</td>\n",
       "      <td>14.000000</td>\n",
       "      <td>95.000000</td>\n",
       "      <td>20.400000</td>\n",
       "      <td>21.200000</td>\n",
       "      <td>99.000000</td>\n",
       "      <td>...</td>\n",
       "      <td>0.000000</td>\n",
       "      <td>0.000000</td>\n",
       "      <td>0.000000</td>\n",
       "      <td>0.000000</td>\n",
       "      <td>0.000000</td>\n",
       "      <td>0.000000</td>\n",
       "      <td>0.000000</td>\n",
       "      <td>0.000000</td>\n",
       "      <td>0.000000</td>\n",
       "      <td>0.000000</td>\n",
       "    </tr>\n",
       "    <tr>\n",
       "      <th>75%</th>\n",
       "      <td>46.983333</td>\n",
       "      <td>-113.950000</td>\n",
       "      <td>747.000000</td>\n",
       "      <td>7180.000000</td>\n",
       "      <td>20.100000</td>\n",
       "      <td>20.700000</td>\n",
       "      <td>113.000000</td>\n",
       "      <td>31.100000</td>\n",
       "      <td>31.700000</td>\n",
       "      <td>113.000000</td>\n",
       "      <td>...</td>\n",
       "      <td>0.000000</td>\n",
       "      <td>0.000000</td>\n",
       "      <td>0.000000</td>\n",
       "      <td>0.000000</td>\n",
       "      <td>0.000000</td>\n",
       "      <td>0.000000</td>\n",
       "      <td>0.000000</td>\n",
       "      <td>0.000000</td>\n",
       "      <td>0.000000</td>\n",
       "      <td>0.000000</td>\n",
       "    </tr>\n",
       "    <tr>\n",
       "      <th>max</th>\n",
       "      <td>48.983333</td>\n",
       "      <td>-110.050000</td>\n",
       "      <td>932.000000</td>\n",
       "      <td>9580.000000</td>\n",
       "      <td>64.600000</td>\n",
       "      <td>47.600000</td>\n",
       "      <td>553.000000</td>\n",
       "      <td>124.600000</td>\n",
       "      <td>99.400000</td>\n",
       "      <td>222.000000</td>\n",
       "      <td>...</td>\n",
       "      <td>1.000000</td>\n",
       "      <td>1.000000</td>\n",
       "      <td>1.000000</td>\n",
       "      <td>1.000000</td>\n",
       "      <td>1.000000</td>\n",
       "      <td>1.000000</td>\n",
       "      <td>1.000000</td>\n",
       "      <td>1.000000</td>\n",
       "      <td>1.000000</td>\n",
       "      <td>1.000000</td>\n",
       "    </tr>\n",
       "  </tbody>\n",
       "</table>\n",
       "<p>8 rows × 34 columns</p>\n",
       "</div>"
      ],
      "text/plain": [
       "               lat         long   station_id    elevation     wteq_amt  \\\n",
       "count  3008.000000  3008.000000  3008.000000  3008.000000  3008.000000   \n",
       "mean     45.418334  -116.424640   605.074468  5979.151928    14.972374   \n",
       "std       1.852166     3.534227   175.160375  1541.654299     9.025920   \n",
       "min      41.233333  -123.366667   302.000000  2060.000000     0.000000   \n",
       "25%      43.950000  -119.833333   466.000000  4930.000000     8.400000   \n",
       "50%      45.183333  -115.666667   608.000000  5870.000000    13.300000   \n",
       "75%      46.983333  -113.950000   747.000000  7180.000000    20.100000   \n",
       "max      48.983333  -110.050000   932.000000  9580.000000    64.600000   \n",
       "\n",
       "          wteq_med  wteq_amt_pct_med  prec_wytd_amt  prec_wytd_avg  \\\n",
       "count  3008.000000       3008.000000    3008.000000    3008.000000   \n",
       "mean     15.843816         95.675532      24.864894      24.864528   \n",
       "std       8.280473         32.367827      16.230453      15.263817   \n",
       "min       0.000000          0.000000       3.200000       6.000000   \n",
       "25%       9.900000         81.000000      13.600000      14.100000   \n",
       "50%      14.000000         95.000000      20.400000      21.200000   \n",
       "75%      20.700000        113.000000      31.100000      31.700000   \n",
       "max      47.600000        553.000000     124.600000      99.400000   \n",
       "\n",
       "       prec_wytd_pctavg  ...  LOWER COLUMBIA, HOOD RIVER  OWYHEE MALHEUR  \\\n",
       "count       3008.000000  ...                 3008.000000     3008.000000   \n",
       "mean         100.551529  ...                    0.021941        0.033577   \n",
       "std           22.840754  ...                    0.146517        0.180168   \n",
       "min           30.000000  ...                    0.000000        0.000000   \n",
       "25%           86.000000  ...                    0.000000        0.000000   \n",
       "50%           99.000000  ...                    0.000000        0.000000   \n",
       "75%          113.000000  ...                    0.000000        0.000000   \n",
       "max          222.000000  ...                    1.000000        1.000000   \n",
       "\n",
       "       RAFT, GOOSE, SALMON FALLS, BRUNEAU  SNAKE ABOVE PALISADES  \\\n",
       "count                         3008.000000            3008.000000   \n",
       "mean                             0.029255               0.054854   \n",
       "std                              0.168549               0.227732   \n",
       "min                              0.000000               0.000000   \n",
       "25%                              0.000000               0.000000   \n",
       "50%                              0.000000               0.000000   \n",
       "75%                              0.000000               0.000000   \n",
       "max                              1.000000               1.000000   \n",
       "\n",
       "       UMATILLA, WALLA WALLA, WILLOW  UPPER CLARK FORK RIVER BASIN  \\\n",
       "count                    3008.000000                   3008.000000   \n",
       "mean                        0.018285                      0.054854   \n",
       "std                         0.134001                      0.227732   \n",
       "min                         0.000000                      0.000000   \n",
       "25%                         0.000000                      0.000000   \n",
       "50%                         0.000000                      0.000000   \n",
       "75%                         0.000000                      0.000000   \n",
       "max                         1.000000                      1.000000   \n",
       "\n",
       "       WEISER, PAYETTE, BOISE  \\\n",
       "count             3008.000000   \n",
       "mean                 0.065824   \n",
       "std                  0.248016   \n",
       "min                  0.000000   \n",
       "25%                  0.000000   \n",
       "50%                  0.000000   \n",
       "75%                  0.000000   \n",
       "max                  1.000000   \n",
       "\n",
       "       WHITE, GREEN, CEDAR, SKYKOMISH, SNOQUALMI, BAKER, SKAGIT   WILLAMETTE  \\\n",
       "count                                        3008.000000         3008.000000   \n",
       "mean                                            0.032247            0.073138   \n",
       "std                                             0.176686            0.260407   \n",
       "min                                             0.000000            0.000000   \n",
       "25%                                             0.000000            0.000000   \n",
       "50%                                             0.000000            0.000000   \n",
       "75%                                             0.000000            0.000000   \n",
       "max                                             1.000000            1.000000   \n",
       "\n",
       "       YAKIMA, AHTANUM  \n",
       "count      3008.000000  \n",
       "mean          0.028923  \n",
       "std           0.167618  \n",
       "min           0.000000  \n",
       "25%           0.000000  \n",
       "50%           0.000000  \n",
       "75%           0.000000  \n",
       "max           1.000000  \n",
       "\n",
       "[8 rows x 34 columns]"
      ]
     },
     "execution_count": 24,
     "metadata": {},
     "output_type": "execute_result"
    }
   ],
   "source": [
    "clean_df.describe()"
   ]
  },
  {
   "cell_type": "code",
   "execution_count": 25,
   "metadata": {},
   "outputs": [
    {
     "data": {
      "text/plain": [
       "(array([451., 999., 735., 477., 183., 102.,  50.,   8.,   2.,   1.]),\n",
       " array([ 0.  ,  6.46, 12.92, 19.38, 25.84, 32.3 , 38.76, 45.22, 51.68,\n",
       "        58.14, 64.6 ]),\n",
       " <BarContainer object of 10 artists>)"
      ]
     },
     "execution_count": 25,
     "metadata": {},
     "output_type": "execute_result"
    },
    {
     "data": {
      "image/png": "[encoded data removed]",
      "text/plain": [
       "<Figure size 432x288 with 1 Axes>"
      ]
     },
     "metadata": {
      "needs_background": "light"
     },
     "output_type": "display_data"
    }
   ],
   "source": [
    "plt.hist(clean_df['wteq_amt'])"
   ]
  },
  {
   "cell_type": "code",
   "execution_count": 26,
   "metadata": {},
   "outputs": [
    {
     "data": {
      "text/plain": [
       "(array([ 99., 583., 893., 547., 406., 218., 142.,  43.,  55.,  22.]),\n",
       " array([ 0.  ,  4.76,  9.52, 14.28, 19.04, 23.8 , 28.56, 33.32, 38.08,\n",
       "        42.84, 47.6 ]),\n",
       " <BarContainer object of 10 artists>)"
      ]
     },
     "execution_count": 26,
     "metadata": {},
     "output_type": "execute_result"
    },
    {
     "data": {
      "image/png": "[encoded data removed]",
      "text/plain": [
       "<Figure size 432x288 with 1 Axes>"
      ]
     },
     "metadata": {
      "needs_background": "light"
     },
     "output_type": "display_data"
    }
   ],
   "source": [
    "plt.hist(clean_df['wteq_med'])"
   ]
  },
  {
   "cell_type": "code",
   "execution_count": null,
   "metadata": {},
   "outputs": [],
   "source": []
  },
  {
   "cell_type": "code",
   "execution_count": 27,
   "metadata": {},
   "outputs": [],
   "source": [
    "clean_df.to_csv('data/sams_clean_data.csv', index = True)"
   ]
  }
 ],
 "metadata": {
  "kernelspec": {
   "display_name": "Python 3",
   "language": "python",
   "name": "python3"
  },
  "language_info": {
   "codemirror_mode": {
    "name": "ipython",
    "version": 3
   },
   "file_extension": ".py",
   "mimetype": "text/x-python",
   "name": "python",
   "nbconvert_exporter": "python",
   "pygments_lexer": "ipython3",
   "version": "3.8.5"
  }
 },
 "nbformat": 4,
 "nbformat_minor": 4
}
