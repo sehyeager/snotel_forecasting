{
 "cells": [
  {
   "cell_type": "markdown",
   "id": "flexible-dancing",
   "metadata": {},
   "source": [
    "### Columbia River Basin Data from 2000-2010"
   ]
  },
  {
   "cell_type": "code",
   "execution_count": 1,
   "id": "corporate-gasoline",
   "metadata": {},
   "outputs": [],
   "source": [
    "import os\n",
    "import pandas as pd\n",
    "import numpy as np"
   ]
  },
  {
   "cell_type": "code",
   "execution_count": 2,
   "id": "received-greek",
   "metadata": {},
   "outputs": [],
   "source": [
    "# Create output folder\n",
    "try:\n",
    "    os.mkdir('./output')\n",
    "except:\n",
    "    pass\n",
    "\n",
    "# Checks for files in data folder\n",
    "files = os.listdir('./data')\n",
    "output = os.listdir('./output')\n",
    "\n",
    "\n",
    "# Strips header from NRCS data, outputs the new CSVs into the output folder\n",
    "for file_name in files:\n",
    "    with open('./data/' + str(file_name), 'r') as file_in:\n",
    "        data = file_in.read().splitlines(True)\n",
    "    with open('./output/' + str(file_name), 'w') as file_out:\n",
    "        file_out.writelines(data[77:])"
   ]
  },
  {
   "cell_type": "code",
   "execution_count": 3,
   "id": "afraid-plasma",
   "metadata": {},
   "outputs": [],
   "source": [
    "df_list = []\n",
    "for i in os.listdir('./output'):\n",
    "    path = os.path.join(\"./output\", i)\n",
    "    temp = pd.read_csv(path, index_col=None, header=0) \n",
    "    df_list.append(temp)"
   ]
  },
  {
   "cell_type": "code",
   "execution_count": 4,
   "id": "loved-concrete",
   "metadata": {},
   "outputs": [],
   "source": [
    "df = pd.concat(df_list, axis=0, ignore_index=True)"
   ]
  },
  {
   "cell_type": "code",
   "execution_count": 5,
   "id": "adjustable-clearance",
   "metadata": {
    "scrolled": false
   },
   "outputs": [
    {
     "data": {
      "text/plain": [
       "Lat                        264\n",
       "Long                       264\n",
       "YYYYMMDD                   264\n",
       "Basin_name                 264\n",
       "Station_id                   0\n",
       "Acton_id                   264\n",
       "Station_name               264\n",
       "Elevation                    0\n",
       "Wteq_amt                   264\n",
       "Wteq_med                   264\n",
       "Wteq_amt_pct_med           165\n",
       "Wteq_amt_pct_med_flag     3168\n",
       "Prec_wytd_amt              264\n",
       "Prec_wytd_avg              264\n",
       "Prec_wytd_pctavg            55\n",
       "Prec_wytd_pct_avg_flag    3278\n",
       "                          3080\n",
       "dtype: int64"
      ]
     },
     "execution_count": 5,
     "metadata": {},
     "output_type": "execute_result"
    }
   ],
   "source": [
    "df.isnull().sum()"
   ]
  },
  {
   "cell_type": "code",
   "execution_count": 6,
   "id": "revised-particular",
   "metadata": {},
   "outputs": [],
   "source": [
    "df = df[df['YYYYMMDD'].notnull()]"
   ]
  },
  {
   "cell_type": "code",
   "execution_count": 7,
   "id": "universal-interview",
   "metadata": {},
   "outputs": [
    {
     "data": {
      "text/plain": [
       "Lat                          0\n",
       "Long                         0\n",
       "YYYYMMDD                     0\n",
       "Basin_name                   0\n",
       "Station_id                   0\n",
       "Acton_id                     0\n",
       "Station_name                 0\n",
       "Elevation                    0\n",
       "Wteq_amt                     0\n",
       "Wteq_med                     0\n",
       "Wteq_amt_pct_med           165\n",
       "Wteq_amt_pct_med_flag     2904\n",
       "Prec_wytd_amt                0\n",
       "Prec_wytd_avg                0\n",
       "Prec_wytd_pctavg            55\n",
       "Prec_wytd_pct_avg_flag    3014\n",
       "                          3069\n",
       "dtype: int64"
      ]
     },
     "execution_count": 7,
     "metadata": {},
     "output_type": "execute_result"
    }
   ],
   "source": [
    "df.isnull().sum()"
   ]
  },
  {
   "cell_type": "code",
   "execution_count": 8,
   "id": "touched-outdoors",
   "metadata": {},
   "outputs": [
    {
     "data": {
      "text/plain": [
       "0       20090210\n",
       "1       20090210\n",
       "2       20090210\n",
       "3       20090210\n",
       "4       20090210\n",
       "          ...   \n",
       "3327    20100210\n",
       "3328    20100210\n",
       "3329    20100210\n",
       "3330    20100210\n",
       "3331    20100210\n",
       "Name: YYYYMMDD, Length: 3069, dtype: int64"
      ]
     },
     "execution_count": 8,
     "metadata": {},
     "output_type": "execute_result"
    }
   ],
   "source": [
    "df['YYYYMMDD'].map(lambda x: int(x))"
   ]
  },
  {
   "cell_type": "code",
   "execution_count": 9,
   "id": "postal-housing",
   "metadata": {},
   "outputs": [
    {
     "data": {
      "text/plain": [
       "-999.0    47\n",
       " 0.0      42\n",
       " 11.6     31\n",
       " 9.3      30\n",
       " 8.5      30\n",
       "          ..\n",
       " 61.5      1\n",
       " 28.3      1\n",
       " 40.3      1\n",
       " 33.6      1\n",
       " 45.2      1\n",
       "Name: Wteq_amt, Length: 442, dtype: int64"
      ]
     },
     "execution_count": 9,
     "metadata": {},
     "output_type": "execute_result"
    }
   ],
   "source": [
    "df['Wteq_amt'].value_counts()"
   ]
  },
  {
   "cell_type": "code",
   "execution_count": 10,
   "id": "complicated-willow",
   "metadata": {},
   "outputs": [],
   "source": [
    "df['YYYYMMDD'] = pd.to_datetime(df['YYYYMMDD'], format='%Y%m%d')"
   ]
  },
  {
   "cell_type": "code",
   "execution_count": 11,
   "id": "subtle-accessory",
   "metadata": {},
   "outputs": [],
   "source": [
    "df = df.drop(['Wteq_amt_pct_med_flag', 'Prec_wytd_pct_avg_flag', ' '], axis=1)"
   ]
  },
  {
   "cell_type": "code",
   "execution_count": 12,
   "id": "damaged-egyptian",
   "metadata": {},
   "outputs": [],
   "source": [
    "df = df.replace(-998.0, np.nan)"
   ]
  },
  {
   "cell_type": "code",
   "execution_count": 13,
   "id": "hourly-desert",
   "metadata": {},
   "outputs": [],
   "source": [
    "df = df.replace(-999.0, np.nan)"
   ]
  },
  {
   "cell_type": "code",
   "execution_count": 14,
   "id": "preceding-popularity",
   "metadata": {
    "scrolled": false
   },
   "outputs": [
    {
     "data": {
      "text/html": [
       "<div>\n",
       "<style scoped>\n",
       "    .dataframe tbody tr th:only-of-type {\n",
       "        vertical-align: middle;\n",
       "    }\n",
       "\n",
       "    .dataframe tbody tr th {\n",
       "        vertical-align: top;\n",
       "    }\n",
       "\n",
       "    .dataframe thead th {\n",
       "        text-align: right;\n",
       "    }\n",
       "</style>\n",
       "<table border=\"1\" class=\"dataframe\">\n",
       "  <thead>\n",
       "    <tr style=\"text-align: right;\">\n",
       "      <th></th>\n",
       "      <th>Lat</th>\n",
       "      <th>Long</th>\n",
       "      <th>Wteq_amt</th>\n",
       "      <th>Wteq_med</th>\n",
       "      <th>Wteq_amt_pct_med</th>\n",
       "      <th>Prec_wytd_amt</th>\n",
       "      <th>Prec_wytd_avg</th>\n",
       "      <th>Prec_wytd_pctavg</th>\n",
       "    </tr>\n",
       "    <tr>\n",
       "      <th>Station_id</th>\n",
       "      <th></th>\n",
       "      <th></th>\n",
       "      <th></th>\n",
       "      <th></th>\n",
       "      <th></th>\n",
       "      <th></th>\n",
       "      <th></th>\n",
       "      <th></th>\n",
       "    </tr>\n",
       "  </thead>\n",
       "  <tbody>\n",
       "    <tr>\n",
       "      <th>1068</th>\n",
       "      <td>47.166667</td>\n",
       "      <td>-121.416667</td>\n",
       "      <td>NaN</td>\n",
       "      <td>NaN</td>\n",
       "      <td>NaN</td>\n",
       "      <td>NaN</td>\n",
       "      <td>NaN</td>\n",
       "      <td>NaN</td>\n",
       "    </tr>\n",
       "    <tr>\n",
       "      <th>1084</th>\n",
       "      <td>45.250000</td>\n",
       "      <td>-123.283333</td>\n",
       "      <td>NaN</td>\n",
       "      <td>NaN</td>\n",
       "      <td>NaN</td>\n",
       "      <td>NaN</td>\n",
       "      <td>NaN</td>\n",
       "      <td>NaN</td>\n",
       "    </tr>\n",
       "    <tr>\n",
       "      <th>1144</th>\n",
       "      <td>47.983333</td>\n",
       "      <td>-114.350000</td>\n",
       "      <td>NaN</td>\n",
       "      <td>NaN</td>\n",
       "      <td>NaN</td>\n",
       "      <td>NaN</td>\n",
       "      <td>NaN</td>\n",
       "      <td>NaN</td>\n",
       "    </tr>\n",
       "    <tr>\n",
       "      <th>1165</th>\n",
       "      <td>48.200000</td>\n",
       "      <td>-114.516667</td>\n",
       "      <td>NaN</td>\n",
       "      <td>NaN</td>\n",
       "      <td>NaN</td>\n",
       "      <td>22.200000</td>\n",
       "      <td>NaN</td>\n",
       "      <td>NaN</td>\n",
       "    </tr>\n",
       "    <tr>\n",
       "      <th>549</th>\n",
       "      <td>41.516667</td>\n",
       "      <td>-116.016667</td>\n",
       "      <td>NaN</td>\n",
       "      <td>NaN</td>\n",
       "      <td>NaN</td>\n",
       "      <td>16.781818</td>\n",
       "      <td>17.3</td>\n",
       "      <td>97.0</td>\n",
       "    </tr>\n",
       "  </tbody>\n",
       "</table>\n",
       "</div>"
      ],
      "text/plain": [
       "                  Lat        Long  Wteq_amt  Wteq_med  Wteq_amt_pct_med  \\\n",
       "Station_id                                                                \n",
       "1068        47.166667 -121.416667       NaN       NaN               NaN   \n",
       "1084        45.250000 -123.283333       NaN       NaN               NaN   \n",
       "1144        47.983333 -114.350000       NaN       NaN               NaN   \n",
       "1165        48.200000 -114.516667       NaN       NaN               NaN   \n",
       "549         41.516667 -116.016667       NaN       NaN               NaN   \n",
       "\n",
       "            Prec_wytd_amt  Prec_wytd_avg  Prec_wytd_pctavg  \n",
       "Station_id                                                  \n",
       "1068                  NaN            NaN               NaN  \n",
       "1084                  NaN            NaN               NaN  \n",
       "1144                  NaN            NaN               NaN  \n",
       "1165            22.200000            NaN               NaN  \n",
       "549             16.781818           17.3              97.0  "
      ]
     },
     "execution_count": 14,
     "metadata": {},
     "output_type": "execute_result"
    }
   ],
   "source": [
    "df[df['Wteq_amt'].isnull()].groupby('Station_id').mean()"
   ]
  },
  {
   "cell_type": "code",
   "execution_count": 15,
   "id": "cubic-phone",
   "metadata": {},
   "outputs": [],
   "source": [
    "df = df.dropna(thresh=12)"
   ]
  },
  {
   "cell_type": "code",
   "execution_count": 16,
   "id": "funny-membership",
   "metadata": {
    "scrolled": true
   },
   "outputs": [
    {
     "data": {
      "text/plain": [
       "Lat                   0\n",
       "Long                  0\n",
       "YYYYMMDD              0\n",
       "Basin_name            0\n",
       "Station_id            0\n",
       "Acton_id              0\n",
       "Station_name          0\n",
       "Elevation             0\n",
       "Wteq_amt              0\n",
       "Wteq_med             88\n",
       "Wteq_amt_pct_med    110\n",
       "Prec_wytd_amt         0\n",
       "Prec_wytd_avg        11\n",
       "Prec_wytd_pctavg     11\n",
       "dtype: int64"
      ]
     },
     "execution_count": 16,
     "metadata": {},
     "output_type": "execute_result"
    }
   ],
   "source": [
    "df.isnull().sum()"
   ]
  },
  {
   "cell_type": "code",
   "execution_count": 17,
   "id": "false-mouse",
   "metadata": {},
   "outputs": [],
   "source": [
    "#list of all my features with nulls after dropping those two flag columns and changing all the codes to nulls as well\n",
    "features_to_fill = ['Wteq_amt', 'Wteq_med', 'Wteq_amt_pct_med', 'Prec_wytd_avg', 'Prec_wytd_pctavg']\n",
    "#groups by year, and then fills the nulls with the year's median value\n",
    "def null_filler(feature):\n",
    "    return df.groupby(by = df['YYYYMMDD'])[feature].transform(lambda x: x.fillna(x.median()))"
   ]
  },
  {
   "cell_type": "code",
   "execution_count": 18,
   "id": "complex-moment",
   "metadata": {},
   "outputs": [],
   "source": [
    "#fills the nulls of every feature in my above list\n",
    "for feature in features_to_fill:\n",
    "    df[feature] = null_filler(feature)"
   ]
  },
  {
   "cell_type": "code",
   "execution_count": 19,
   "id": "detected-gazette",
   "metadata": {},
   "outputs": [
    {
     "data": {
      "text/plain": [
       "Lat                 0\n",
       "Long                0\n",
       "YYYYMMDD            0\n",
       "Basin_name          0\n",
       "Station_id          0\n",
       "Acton_id            0\n",
       "Station_name        0\n",
       "Elevation           0\n",
       "Wteq_amt            0\n",
       "Wteq_med            0\n",
       "Wteq_amt_pct_med    0\n",
       "Prec_wytd_amt       0\n",
       "Prec_wytd_avg       0\n",
       "Prec_wytd_pctavg    0\n",
       "dtype: int64"
      ]
     },
     "execution_count": 19,
     "metadata": {},
     "output_type": "execute_result"
    }
   ],
   "source": [
    "df.isnull().sum()"
   ]
  },
  {
   "cell_type": "code",
   "execution_count": 20,
   "id": "arctic-apple",
   "metadata": {},
   "outputs": [],
   "source": [
    "df.columns = df.columns.str.lower()"
   ]
  },
  {
   "cell_type": "code",
   "execution_count": 21,
   "id": "lasting-gossip",
   "metadata": {},
   "outputs": [],
   "source": [
    "dummies = pd.get_dummies(df['basin_name'])"
   ]
  },
  {
   "cell_type": "code",
   "execution_count": 22,
   "id": "numerical-oxygen",
   "metadata": {},
   "outputs": [],
   "source": [
    "df = pd.concat([df, dummies], axis=1)"
   ]
  },
  {
   "cell_type": "code",
   "execution_count": 23,
   "id": "sapphire-assault",
   "metadata": {},
   "outputs": [],
   "source": [
    "df = df.drop('basin_name', axis=1)"
   ]
  },
  {
   "cell_type": "code",
   "execution_count": 24,
   "id": "sustained-intake",
   "metadata": {},
   "outputs": [],
   "source": [
    "df.set_index('yyyymmdd', inplace = True)"
   ]
  },
  {
   "cell_type": "code",
   "execution_count": 25,
   "id": "crude-russell",
   "metadata": {},
   "outputs": [],
   "source": [
    "df.to_csv('./basin_2000_2010.csv')"
   ]
  },
  {
   "cell_type": "code",
   "execution_count": null,
   "id": "prime-novel",
   "metadata": {},
   "outputs": [],
   "source": []
  }
 ],
 "metadata": {
  "kernelspec": {
   "display_name": "Python 3",
   "language": "python",
   "name": "python3"
  },
  "language_info": {
   "codemirror_mode": {
    "name": "ipython",
    "version": 3
   },
   "file_extension": ".py",
   "mimetype": "text/x-python",
   "name": "python",
   "nbconvert_exporter": "python",
   "pygments_lexer": "ipython3",
   "version": "3.8.5"
  }
 },
 "nbformat": 4,
 "nbformat_minor": 5
}
