{
 "cells": [
  {
   "cell_type": "code",
   "execution_count": 1,
   "metadata": {},
   "outputs": [],
   "source": [
    "import pandas as pd\n",
    "import numpy as np\n",
    "import matplotlib.pyplot as plt\n",
    "import seaborn as sns\n",
    "from statsmodels.graphics.tsaplots import plot_acf, plot_pacf\n",
    "from statsmodels.tsa.stattools import adfuller\n",
    "from statsmodels.tsa.arima.model import ARIMA\n",
    "from sklearn.model_selection import GridSearchCV"
   ]
  },
  {
   "cell_type": "code",
   "execution_count": 2,
   "metadata": {},
   "outputs": [],
   "source": [
    "# Code written by Joseph Nelson.\n",
    "\n",
    "def interpret_dftest(dftest):\n",
    "    dfoutput = pd.Series(dftest[0:2], index=['Test Statistic','p-value'])\n",
    "    return dfoutput"
   ]
  },
  {
   "cell_type": "code",
   "execution_count": 17,
   "metadata": {},
   "outputs": [],
   "source": [
    "#read in columns\n",
    "df = pd.read_csv('allyears.csv')\n",
    "df.set_index('yyyymmdd')\n",
    "df.drop(columns = 'Unnamed: 0', inplace = True)"
   ]
  },
  {
   "cell_type": "code",
   "execution_count": 18,
   "metadata": {},
   "outputs": [
    {
     "data": {
      "text/plain": [
       "Index(['yyyymmdd', 'lat', 'long', 'station_id', 'acton_id', 'station_name',\n",
       "       'elevation', 'wteq_amt', 'wteq_med', 'wteq_amt_pct_med',\n",
       "       'prec_wytd_amt', 'prec_wytd_avg', 'prec_wytd_pctavg',\n",
       "       'big and little wood basins', 'bitterroot', 'chelan, entiat, wenatchee',\n",
       "       'clearwater and salmon', 'columbia above methow',\n",
       "       'deschutes, crooked, john day', 'flathead river basin',\n",
       "       'grand ronde, powder, burnt, imnaha',\n",
       "       'henrys fork, teton, willow, blackfoot, portneuf',\n",
       "       'idaho panhandle region', 'kootenai river in montana', 'lewis, cowlitz',\n",
       "       'lower clark fork river basin', 'lower columbia, hood river',\n",
       "       'owyhee malheur', 'raft, goose, salmon falls, bruneau',\n",
       "       'snake above palisades', 'umatilla, walla walla, willow',\n",
       "       'upper clark fork river basin', 'weiser, payette, boise',\n",
       "       'white, green, cedar, skykomish, snoqualmi, baker, skagit',\n",
       "       'willamette', 'yakima, ahtanum'],\n",
       "      dtype='object')"
      ]
     },
     "execution_count": 18,
     "metadata": {},
     "output_type": "execute_result"
    }
   ],
   "source": [
    "df.columns"
   ]
  },
  {
   "cell_type": "code",
   "execution_count": 23,
   "metadata": {},
   "outputs": [
    {
     "data": {
      "text/plain": [
       "(8812, 36)"
      ]
     },
     "execution_count": 23,
     "metadata": {},
     "output_type": "execute_result"
    }
   ],
   "source": [
    "df.shape"
   ]
  },
  {
   "cell_type": "code",
   "execution_count": 19,
   "metadata": {},
   "outputs": [],
   "source": [
    "basin_list = ['big and little wood basins', 'bitterroot', 'chelan, entiat, wenatchee',\n",
    "       'clearwater and salmon', 'columbia above methow',\n",
    "       'deschutes, crooked, john day', 'flathead river basin',\n",
    "       'grand ronde, powder, burnt, imnaha',\n",
    "       'henrys fork, teton, willow, blackfoot, portneuf',\n",
    "       'idaho panhandle region', 'kootenai river in montana', 'lewis, cowlitz',\n",
    "       'lower clark fork river basin', 'lower columbia, hood river',\n",
    "       'owyhee malheur', 'raft, goose, salmon falls, bruneau',\n",
    "       'snake above palisades', 'umatilla, walla walla, willow',\n",
    "       'upper clark fork river basin', 'weiser, payette, boise',\n",
    "       'white, green, cedar, skykomish, snoqualmi, baker, skagit',\n",
    "       'willamette', 'yakima, ahtanum']"
   ]
  },
  {
   "cell_type": "code",
   "execution_count": 21,
   "metadata": {},
   "outputs": [
    {
     "data": {
      "text/plain": [
       "23"
      ]
     },
     "execution_count": 21,
     "metadata": {},
     "output_type": "execute_result"
    }
   ],
   "source": [
    "len(basin_list)"
   ]
  },
  {
   "cell_type": "code",
   "execution_count": null,
   "metadata": {},
   "outputs": [],
   "source": [
    "sams_df = pd.read_csv"
   ]
  }
 ],
 "metadata": {
  "kernelspec": {
   "display_name": "Python 3",
   "language": "python",
   "name": "python3"
  },
  "language_info": {
   "codemirror_mode": {
    "name": "ipython",
    "version": 3
   },
   "file_extension": ".py",
   "mimetype": "text/x-python",
   "name": "python",
   "nbconvert_exporter": "python",
   "pygments_lexer": "ipython3",
   "version": "3.8.5"
  }
 },
 "nbformat": 4,
 "nbformat_minor": 4
}
