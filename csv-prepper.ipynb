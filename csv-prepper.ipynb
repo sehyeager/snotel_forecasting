{
 "cells": [
  {
   "cell_type": "code",
   "execution_count": 4,
   "metadata": {},
   "outputs": [],
   "source": [
    "import os\n",
    "import pandas as pd\n",
    "# Create output folder\n",
    "try:\n",
    "    os.mkdir('output')\n",
    "except:\n",
    "    pass\n",
    "# Checks for files in data folder\n",
    "files = os.listdir('2021-2011_data/')\n",
    "output = os.listdir('output')\n",
    "# Strips header from NRCS data, outputs the new CSVs into the output folder\n",
    "for file_name in files:\n",
    "\twith open('2021-2011_data/' + str(file_name), 'r') as file_in:\n",
    "\t\tdata = file_in.read().splitlines(True)\n",
    "\twith open('2021-2011_data/' + str(file_name), 'w') as file_out:\n",
    "\t\tfile_out.writelines(data[77:])"
   ]
  },
  {
   "cell_type": "code",
   "execution_count": null,
   "metadata": {},
   "outputs": [],
   "source": []
  }
 ],
 "metadata": {
  "kernelspec": {
   "display_name": "Python 3",
   "language": "python",
   "name": "python3"
  },
  "language_info": {
   "codemirror_mode": {
    "name": "ipython",
    "version": 3
   },
   "file_extension": ".py",
   "mimetype": "text/x-python",
   "name": "python",
   "nbconvert_exporter": "python",
   "pygments_lexer": "ipython3",
   "version": "3.8.5"
  }
 },
 "nbformat": 4,
 "nbformat_minor": 4
}
