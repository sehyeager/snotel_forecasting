{
 "cells": [
  {
   "cell_type": "code",
   "execution_count": 5,
   "metadata": {},
   "outputs": [
    {
     "ename": "SyntaxError",
     "evalue": "EOL while scanning string literal (<ipython-input-5-608d44c86b95>, line 12)",
     "output_type": "error",
     "traceback": [
      "\u001b[0;36m  File \u001b[0;32m\"<ipython-input-5-608d44c86b95>\"\u001b[0;36m, line \u001b[0;32m12\u001b[0m\n\u001b[0;31m    files = os.listdir('data)\u001b[0m\n\u001b[0m                             ^\u001b[0m\n\u001b[0;31mSyntaxError\u001b[0m\u001b[0;31m:\u001b[0m EOL while scanning string literal\n"
     ]
    }
   ],
   "source": [
    "import os\n",
    "import pandas as pd\n",
    "\n",
    "# Create output folder\n",
    "try:\n",
    "    os.mkdir('output')\n",
    "except:\n",
    "    pass\n",
    "\n",
    "\n",
    "# Checks for files in data folder\n",
    "files = os.listdir('data)\n",
    "\n",
    "output = os.listdir('output')\n",
    "\n",
    "\n",
    "# Strips header from NRCS data, outputs the new CSVs into the output folder\n",
    "for file_name in files:\n",
    "\twith open('data/' + str(file_name), 'r') as file_in:\n",
    "\t\tdata = file_in.read().splitlines(True)\n",
    "\twith open('data/' + str(file_name), 'w') as file_out:\n",
    "\t\tfile_out.writelines(data[77:])"
   ]
  },
  {
   "cell_type": "code",
   "execution_count": null,
   "metadata": {},
   "outputs": [],
   "source": []
  }
 ],
 "metadata": {
  "kernelspec": {
   "display_name": "Python 3",
   "language": "python",
   "name": "python3"
  },
  "language_info": {
   "codemirror_mode": {
    "name": "ipython",
    "version": 3
   },
   "file_extension": ".py",
   "mimetype": "text/x-python",
   "name": "python",
   "nbconvert_exporter": "python",
   "pygments_lexer": "ipython3",
   "version": "3.8.5"
  }
 },
 "nbformat": 4,
 "nbformat_minor": 4
}
